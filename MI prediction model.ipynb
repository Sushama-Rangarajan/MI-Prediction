{
 "cells": [
  {
   "cell_type": "markdown",
   "id": "promotional-conjunction",
   "metadata": {},
   "source": [
    "### Mycardial Infraction prediction on patients "
   ]
  },
  {
   "cell_type": "markdown",
   "id": "complimentary-highland",
   "metadata": {},
   "source": [
    "\n",
    "#### Dataset\n",
    "This dataset is used to predict complications of Myocardial Infarction (MI) based on the information about the patient. The target value 0 is no complication and 1 means complication within the first three days of hospitalization. \n",
    "\n",
    "MI is one of the most challenging problems of modern medicine. Acute myocardial infarction is associated with high mortality in the first year after it. The incidence of MI remains high in all countries. This is especially true for the urban population of highly developed countries, which is exposed to chronic stress factors, irregular and not always balanced nutrition. In the United States, for example, more than a million people suffer from MI every year, and 200-300 thousand of them die from acute MI before arriving at the hospital.\n",
    "In this regard, predicting complications of myocardial infarction in order to timely carry out the necessary preventive measures is an important task.\n",
    "\n",
    "* Age\n",
    "* Gender\n",
    "* Myocardial:  Quantity of myocardial infarctions in the anamnesis – Ordinal\n",
    "* Exertional angina: Exertional angina pectoris in the anamnesis\n",
    "* FC: Functional class (FC) of angina pectoris in the last year – Ordinal\n",
    "* Heart Disease: Coronary heart disease (CHD) in recent weeks, days before admission to hospital\n",
    "* Heredity: Heredity on CHD\n",
    "* Hypertension: Presence of an essential hypertension\n",
    "* Symptomatic hypertension\n",
    "* Duration: Duration of arterial hypertension\n",
    "* Arrhythmia: Observing of arrhythmia in the anamnesis\n",
    "* Systolic_emergency: Systolic blood pressure according to Emergency Cardiology Team\n",
    "* Diastolic_emergency: Diastolic blood pressure according to Emergency Cardiology Team\n",
    "* Systolic_intensive_care: Systolic blood pressure according to intensive care unit\n",
    "* Diastolic_intensive_care: Diastolic blood pressure according to intensive care unit\n",
    "* Potassium: Serum potassium content\n",
    "* Sodium: Serum sodium content\n",
    "* AlAT: Serum AlAT content\n",
    "* AsTK: Serum AsTK content\n",
    "* WBC: White Blood Cell Count\n",
    "* ESR: Erythrocyte sedimentation rate\n",
    "* Time: Time elapsed from the beginning of the attack of CHD to the hospital\n",
    "* Outcome: target column"
   ]
  },
  {
   "cell_type": "markdown",
   "id": "ancient-player",
   "metadata": {},
   "source": [
    "# Preprocessing"
   ]
  },
  {
   "cell_type": "code",
   "execution_count": 1,
   "id": "helpful-afghanistan",
   "metadata": {},
   "outputs": [],
   "source": [
    "import pandas as pd\n",
    "import numpy as np\n",
    "from matplotlib import pyplot as plt"
   ]
  },
  {
   "cell_type": "code",
   "execution_count": 2,
   "id": "turned-helicopter",
   "metadata": {},
   "outputs": [],
   "source": [
    "train = pd.read_csv('train.csv')\n",
    "test = pd.read_csv('test.csv')"
   ]
  },
  {
   "cell_type": "code",
   "execution_count": 3,
   "id": "executive-yellow",
   "metadata": {},
   "outputs": [
    {
     "name": "stdout",
     "output_type": "stream",
     "text": [
      "<class 'pandas.core.frame.DataFrame'>\n",
      "RangeIndex: 1275 entries, 0 to 1274\n",
      "Data columns (total 23 columns):\n",
      " #   Column                    Non-Null Count  Dtype \n",
      "---  ------                    --------------  ----- \n",
      " 0   Age                       1275 non-null   object\n",
      " 1   Gender                    1275 non-null   object\n",
      " 2   myocardial                1275 non-null   object\n",
      " 3   Exertional angina         1275 non-null   object\n",
      " 4   FC                        1275 non-null   object\n",
      " 5   Heart Disease             1275 non-null   object\n",
      " 6   Heredity                  1275 non-null   object\n",
      " 7   Hypertension              1275 non-null   object\n",
      " 8   Symptomatic hypertension  1275 non-null   object\n",
      " 9   Duration                  1275 non-null   object\n",
      " 10  Arrhythmia                1275 non-null   object\n",
      " 11  Systolic_emergency        1275 non-null   object\n",
      " 12  Diastolic_emergency       1275 non-null   object\n",
      " 13  Systolic_intensive_care   1275 non-null   object\n",
      " 14  Diastolic_intensive_care  1275 non-null   object\n",
      " 15  Potassium                 1275 non-null   object\n",
      " 16  Sodium                    1275 non-null   object\n",
      " 17  AlAT                      1275 non-null   object\n",
      " 18  AsAT                      1275 non-null   object\n",
      " 19  WBC                       1275 non-null   object\n",
      " 20  ESR                       1275 non-null   object\n",
      " 21  Time                      1275 non-null   object\n",
      " 22  Outcome                   1275 non-null   int64 \n",
      "dtypes: int64(1), object(22)\n",
      "memory usage: 229.2+ KB\n"
     ]
    }
   ],
   "source": [
    "train.info()"
   ]
  },
  {
   "cell_type": "markdown",
   "id": "unauthorized-boating",
   "metadata": {},
   "source": [
    "We can see that all the columns are of type object and hence we don't see any missing values here. "
   ]
  },
  {
   "cell_type": "code",
   "execution_count": 4,
   "id": "respective-alexander",
   "metadata": {},
   "outputs": [
    {
     "data": {
      "text/html": [
       "<div>\n",
       "<style scoped>\n",
       "    .dataframe tbody tr th:only-of-type {\n",
       "        vertical-align: middle;\n",
       "    }\n",
       "\n",
       "    .dataframe tbody tr th {\n",
       "        vertical-align: top;\n",
       "    }\n",
       "\n",
       "    .dataframe thead th {\n",
       "        text-align: right;\n",
       "    }\n",
       "</style>\n",
       "<table border=\"1\" class=\"dataframe\">\n",
       "  <thead>\n",
       "    <tr style=\"text-align: right;\">\n",
       "      <th></th>\n",
       "      <th>Age</th>\n",
       "      <th>Gender</th>\n",
       "      <th>myocardial</th>\n",
       "      <th>Exertional angina</th>\n",
       "      <th>FC</th>\n",
       "      <th>Heart Disease</th>\n",
       "      <th>Heredity</th>\n",
       "      <th>Hypertension</th>\n",
       "      <th>Symptomatic hypertension</th>\n",
       "      <th>Duration</th>\n",
       "      <th>...</th>\n",
       "      <th>Systolic_intensive_care</th>\n",
       "      <th>Diastolic_intensive_care</th>\n",
       "      <th>Potassium</th>\n",
       "      <th>Sodium</th>\n",
       "      <th>AlAT</th>\n",
       "      <th>AsAT</th>\n",
       "      <th>WBC</th>\n",
       "      <th>ESR</th>\n",
       "      <th>Time</th>\n",
       "      <th>Outcome</th>\n",
       "    </tr>\n",
       "  </thead>\n",
       "  <tbody>\n",
       "    <tr>\n",
       "      <th>0</th>\n",
       "      <td>75</td>\n",
       "      <td>Female</td>\n",
       "      <td>0</td>\n",
       "      <td>Two years ago</td>\n",
       "      <td>II FC</td>\n",
       "      <td>Exertional angina</td>\n",
       "      <td>?</td>\n",
       "      <td>Stage 2</td>\n",
       "      <td>No</td>\n",
       "      <td>?</td>\n",
       "      <td>...</td>\n",
       "      <td>140</td>\n",
       "      <td>90</td>\n",
       "      <td>?</td>\n",
       "      <td>?</td>\n",
       "      <td>0.3</td>\n",
       "      <td>0.18</td>\n",
       "      <td>7.8</td>\n",
       "      <td>16</td>\n",
       "      <td>7</td>\n",
       "      <td>0</td>\n",
       "    </tr>\n",
       "    <tr>\n",
       "      <th>1</th>\n",
       "      <td>50</td>\n",
       "      <td>Male</td>\n",
       "      <td>1</td>\n",
       "      <td>Two years ago</td>\n",
       "      <td>II FC</td>\n",
       "      <td>Unstable angina</td>\n",
       "      <td>?</td>\n",
       "      <td>Stage 2</td>\n",
       "      <td>No</td>\n",
       "      <td>One year</td>\n",
       "      <td>...</td>\n",
       "      <td>?</td>\n",
       "      <td>?</td>\n",
       "      <td>3.9</td>\n",
       "      <td>132</td>\n",
       "      <td>0.23</td>\n",
       "      <td>0.52</td>\n",
       "      <td>6.2</td>\n",
       "      <td>20</td>\n",
       "      <td>7</td>\n",
       "      <td>0</td>\n",
       "    </tr>\n",
       "    <tr>\n",
       "      <th>2</th>\n",
       "      <td>54</td>\n",
       "      <td>Male</td>\n",
       "      <td>0</td>\n",
       "      <td>Never</td>\n",
       "      <td>No angina</td>\n",
       "      <td>No angina</td>\n",
       "      <td>?</td>\n",
       "      <td>No</td>\n",
       "      <td>No</td>\n",
       "      <td>No hypertension</td>\n",
       "      <td>...</td>\n",
       "      <td>140</td>\n",
       "      <td>100</td>\n",
       "      <td>?</td>\n",
       "      <td>?</td>\n",
       "      <td>?</td>\n",
       "      <td>?</td>\n",
       "      <td>6.9</td>\n",
       "      <td>6</td>\n",
       "      <td>?</td>\n",
       "      <td>0</td>\n",
       "    </tr>\n",
       "    <tr>\n",
       "      <th>3</th>\n",
       "      <td>51</td>\n",
       "      <td>Male</td>\n",
       "      <td>?</td>\n",
       "      <td>?</td>\n",
       "      <td>?</td>\n",
       "      <td>Unstable angina</td>\n",
       "      <td>?</td>\n",
       "      <td>?</td>\n",
       "      <td>?</td>\n",
       "      <td>?</td>\n",
       "      <td>...</td>\n",
       "      <td>0</td>\n",
       "      <td>0</td>\n",
       "      <td>?</td>\n",
       "      <td>?</td>\n",
       "      <td>?</td>\n",
       "      <td>?</td>\n",
       "      <td>?</td>\n",
       "      <td>?</td>\n",
       "      <td>2</td>\n",
       "      <td>1</td>\n",
       "    </tr>\n",
       "    <tr>\n",
       "      <th>4</th>\n",
       "      <td>76</td>\n",
       "      <td>Female</td>\n",
       "      <td>3</td>\n",
       "      <td>Never</td>\n",
       "      <td>No angina</td>\n",
       "      <td>Unstable angina</td>\n",
       "      <td>?</td>\n",
       "      <td>Stage 2</td>\n",
       "      <td>No</td>\n",
       "      <td>More than 10 years</td>\n",
       "      <td>...</td>\n",
       "      <td>110</td>\n",
       "      <td>70</td>\n",
       "      <td>?</td>\n",
       "      <td>?</td>\n",
       "      <td>0.15</td>\n",
       "      <td>0.26</td>\n",
       "      <td>4</td>\n",
       "      <td>5</td>\n",
       "      <td>7</td>\n",
       "      <td>0</td>\n",
       "    </tr>\n",
       "  </tbody>\n",
       "</table>\n",
       "<p>5 rows × 23 columns</p>\n",
       "</div>"
      ],
      "text/plain": [
       "  Age  Gender myocardial Exertional angina         FC      Heart Disease  \\\n",
       "0  75  Female          0     Two years ago      II FC  Exertional angina   \n",
       "1  50    Male          1     Two years ago      II FC    Unstable angina   \n",
       "2  54    Male          0             Never  No angina          No angina   \n",
       "3  51    Male          ?                 ?          ?    Unstable angina   \n",
       "4  76  Female          3             Never  No angina    Unstable angina   \n",
       "\n",
       "  Heredity Hypertension Symptomatic hypertension            Duration  ...  \\\n",
       "0        ?      Stage 2                       No                   ?  ...   \n",
       "1        ?      Stage 2                       No            One year  ...   \n",
       "2        ?           No                       No     No hypertension  ...   \n",
       "3        ?            ?                        ?                   ?  ...   \n",
       "4        ?      Stage 2                       No  More than 10 years  ...   \n",
       "\n",
       "  Systolic_intensive_care Diastolic_intensive_care Potassium Sodium  AlAT  \\\n",
       "0                     140                       90         ?      ?   0.3   \n",
       "1                       ?                        ?       3.9    132  0.23   \n",
       "2                     140                      100         ?      ?     ?   \n",
       "3                       0                        0         ?      ?     ?   \n",
       "4                     110                       70         ?      ?  0.15   \n",
       "\n",
       "   AsAT  WBC ESR Time Outcome  \n",
       "0  0.18  7.8  16    7       0  \n",
       "1  0.52  6.2  20    7       0  \n",
       "2     ?  6.9   6    ?       0  \n",
       "3     ?    ?   ?    2       1  \n",
       "4  0.26    4   5    7       0  \n",
       "\n",
       "[5 rows x 23 columns]"
      ]
     },
     "execution_count": 4,
     "metadata": {},
     "output_type": "execute_result"
    }
   ],
   "source": [
    "train.head()"
   ]
  },
  {
   "cell_type": "markdown",
   "id": "complete-frederick",
   "metadata": {},
   "source": [
    "From observing the top 5 rows, we see that a lot of columns have '?' in it indicating missing values. "
   ]
  },
  {
   "cell_type": "markdown",
   "id": "stupid-conducting",
   "metadata": {},
   "source": [
    "#### Replacing ? with NaN "
   ]
  },
  {
   "cell_type": "markdown",
   "id": "neutral-hotel",
   "metadata": {},
   "source": [
    "Replacing '?' across the columns as NaN"
   ]
  },
  {
   "cell_type": "code",
   "execution_count": 5,
   "id": "alpine-prime",
   "metadata": {},
   "outputs": [],
   "source": [
    "for col in train.columns:\n",
    "    train[col] = train[col].replace('?',np.nan) "
   ]
  },
  {
   "cell_type": "markdown",
   "id": "continuing-firmware",
   "metadata": {},
   "source": [
    "Converting numerical columns to float "
   ]
  },
  {
   "cell_type": "code",
   "execution_count": 6,
   "id": "numerical-marina",
   "metadata": {
    "scrolled": true
   },
   "outputs": [],
   "source": [
    "train['Age'] = train['Age'].astype(float)\n",
    "train['myocardial'] = train['myocardial'].astype(float)"
   ]
  },
  {
   "cell_type": "code",
   "execution_count": 7,
   "id": "paperback-sigma",
   "metadata": {},
   "outputs": [],
   "source": [
    "train[train.columns[11:22]] = train[train.columns[11:22]].astype(float)"
   ]
  },
  {
   "cell_type": "code",
   "execution_count": 8,
   "id": "fifteen-package",
   "metadata": {},
   "outputs": [
    {
     "data": {
      "text/html": [
       "<div>\n",
       "<style scoped>\n",
       "    .dataframe tbody tr th:only-of-type {\n",
       "        vertical-align: middle;\n",
       "    }\n",
       "\n",
       "    .dataframe tbody tr th {\n",
       "        vertical-align: top;\n",
       "    }\n",
       "\n",
       "    .dataframe thead th {\n",
       "        text-align: right;\n",
       "    }\n",
       "</style>\n",
       "<table border=\"1\" class=\"dataframe\">\n",
       "  <thead>\n",
       "    <tr style=\"text-align: right;\">\n",
       "      <th></th>\n",
       "      <th>Age</th>\n",
       "      <th>myocardial</th>\n",
       "      <th>Systolic_emergency</th>\n",
       "      <th>Diastolic_emergency</th>\n",
       "      <th>Systolic_intensive_care</th>\n",
       "      <th>Diastolic_intensive_care</th>\n",
       "      <th>Potassium</th>\n",
       "      <th>Sodium</th>\n",
       "      <th>AlAT</th>\n",
       "      <th>AsAT</th>\n",
       "      <th>WBC</th>\n",
       "      <th>ESR</th>\n",
       "      <th>Time</th>\n",
       "      <th>Outcome</th>\n",
       "    </tr>\n",
       "  </thead>\n",
       "  <tbody>\n",
       "    <tr>\n",
       "      <th>count</th>\n",
       "      <td>1274.000000</td>\n",
       "      <td>1274.00000</td>\n",
       "      <td>474.000000</td>\n",
       "      <td>474.000000</td>\n",
       "      <td>1066.000000</td>\n",
       "      <td>1066.000000</td>\n",
       "      <td>993.000000</td>\n",
       "      <td>992.000000</td>\n",
       "      <td>1067.000000</td>\n",
       "      <td>1066.000000</td>\n",
       "      <td>1188.000000</td>\n",
       "      <td>1132.000000</td>\n",
       "      <td>1178.000000</td>\n",
       "      <td>1275.000000</td>\n",
       "    </tr>\n",
       "    <tr>\n",
       "      <th>mean</th>\n",
       "      <td>64.154631</td>\n",
       "      <td>0.56044</td>\n",
       "      <td>137.700422</td>\n",
       "      <td>82.004219</td>\n",
       "      <td>134.812383</td>\n",
       "      <td>83.076923</td>\n",
       "      <td>4.194361</td>\n",
       "      <td>136.607863</td>\n",
       "      <td>0.472671</td>\n",
       "      <td>0.262336</td>\n",
       "      <td>8.843519</td>\n",
       "      <td>13.475265</td>\n",
       "      <td>4.702037</td>\n",
       "      <td>0.160784</td>\n",
       "    </tr>\n",
       "    <tr>\n",
       "      <th>std</th>\n",
       "      <td>46.793076</td>\n",
       "      <td>0.83419</td>\n",
       "      <td>34.681988</td>\n",
       "      <td>19.997145</td>\n",
       "      <td>31.734114</td>\n",
       "      <td>18.631784</td>\n",
       "      <td>0.770440</td>\n",
       "      <td>6.598662</td>\n",
       "      <td>0.386188</td>\n",
       "      <td>0.206220</td>\n",
       "      <td>3.449176</td>\n",
       "      <td>10.796416</td>\n",
       "      <td>2.858370</td>\n",
       "      <td>0.367476</td>\n",
       "    </tr>\n",
       "    <tr>\n",
       "      <th>min</th>\n",
       "      <td>26.000000</td>\n",
       "      <td>0.00000</td>\n",
       "      <td>0.000000</td>\n",
       "      <td>0.000000</td>\n",
       "      <td>0.000000</td>\n",
       "      <td>0.000000</td>\n",
       "      <td>2.300000</td>\n",
       "      <td>117.000000</td>\n",
       "      <td>0.030000</td>\n",
       "      <td>0.040000</td>\n",
       "      <td>2.000000</td>\n",
       "      <td>1.000000</td>\n",
       "      <td>1.000000</td>\n",
       "      <td>0.000000</td>\n",
       "    </tr>\n",
       "    <tr>\n",
       "      <th>25%</th>\n",
       "      <td>54.000000</td>\n",
       "      <td>0.00000</td>\n",
       "      <td>120.000000</td>\n",
       "      <td>70.000000</td>\n",
       "      <td>120.000000</td>\n",
       "      <td>80.000000</td>\n",
       "      <td>3.700000</td>\n",
       "      <td>133.000000</td>\n",
       "      <td>0.230000</td>\n",
       "      <td>0.150000</td>\n",
       "      <td>6.400000</td>\n",
       "      <td>5.000000</td>\n",
       "      <td>2.000000</td>\n",
       "      <td>0.000000</td>\n",
       "    </tr>\n",
       "    <tr>\n",
       "      <th>50%</th>\n",
       "      <td>63.000000</td>\n",
       "      <td>0.00000</td>\n",
       "      <td>140.000000</td>\n",
       "      <td>80.000000</td>\n",
       "      <td>130.000000</td>\n",
       "      <td>80.000000</td>\n",
       "      <td>4.100000</td>\n",
       "      <td>136.000000</td>\n",
       "      <td>0.380000</td>\n",
       "      <td>0.220000</td>\n",
       "      <td>8.100000</td>\n",
       "      <td>10.000000</td>\n",
       "      <td>4.000000</td>\n",
       "      <td>0.000000</td>\n",
       "    </tr>\n",
       "    <tr>\n",
       "      <th>75%</th>\n",
       "      <td>70.000000</td>\n",
       "      <td>1.00000</td>\n",
       "      <td>160.000000</td>\n",
       "      <td>90.000000</td>\n",
       "      <td>150.000000</td>\n",
       "      <td>90.000000</td>\n",
       "      <td>4.600000</td>\n",
       "      <td>140.000000</td>\n",
       "      <td>0.610000</td>\n",
       "      <td>0.300000</td>\n",
       "      <td>10.500000</td>\n",
       "      <td>19.000000</td>\n",
       "      <td>7.000000</td>\n",
       "      <td>0.000000</td>\n",
       "    </tr>\n",
       "    <tr>\n",
       "      <th>max</th>\n",
       "      <td>999.000000</td>\n",
       "      <td>3.00000</td>\n",
       "      <td>260.000000</td>\n",
       "      <td>190.000000</td>\n",
       "      <td>260.000000</td>\n",
       "      <td>190.000000</td>\n",
       "      <td>8.000000</td>\n",
       "      <td>169.000000</td>\n",
       "      <td>3.000000</td>\n",
       "      <td>2.150000</td>\n",
       "      <td>27.900000</td>\n",
       "      <td>68.000000</td>\n",
       "      <td>9.000000</td>\n",
       "      <td>1.000000</td>\n",
       "    </tr>\n",
       "  </tbody>\n",
       "</table>\n",
       "</div>"
      ],
      "text/plain": [
       "               Age  myocardial  Systolic_emergency  Diastolic_emergency  \\\n",
       "count  1274.000000  1274.00000          474.000000           474.000000   \n",
       "mean     64.154631     0.56044          137.700422            82.004219   \n",
       "std      46.793076     0.83419           34.681988            19.997145   \n",
       "min      26.000000     0.00000            0.000000             0.000000   \n",
       "25%      54.000000     0.00000          120.000000            70.000000   \n",
       "50%      63.000000     0.00000          140.000000            80.000000   \n",
       "75%      70.000000     1.00000          160.000000            90.000000   \n",
       "max     999.000000     3.00000          260.000000           190.000000   \n",
       "\n",
       "       Systolic_intensive_care  Diastolic_intensive_care   Potassium  \\\n",
       "count              1066.000000               1066.000000  993.000000   \n",
       "mean                134.812383                 83.076923    4.194361   \n",
       "std                  31.734114                 18.631784    0.770440   \n",
       "min                   0.000000                  0.000000    2.300000   \n",
       "25%                 120.000000                 80.000000    3.700000   \n",
       "50%                 130.000000                 80.000000    4.100000   \n",
       "75%                 150.000000                 90.000000    4.600000   \n",
       "max                 260.000000                190.000000    8.000000   \n",
       "\n",
       "           Sodium         AlAT         AsAT          WBC          ESR  \\\n",
       "count  992.000000  1067.000000  1066.000000  1188.000000  1132.000000   \n",
       "mean   136.607863     0.472671     0.262336     8.843519    13.475265   \n",
       "std      6.598662     0.386188     0.206220     3.449176    10.796416   \n",
       "min    117.000000     0.030000     0.040000     2.000000     1.000000   \n",
       "25%    133.000000     0.230000     0.150000     6.400000     5.000000   \n",
       "50%    136.000000     0.380000     0.220000     8.100000    10.000000   \n",
       "75%    140.000000     0.610000     0.300000    10.500000    19.000000   \n",
       "max    169.000000     3.000000     2.150000    27.900000    68.000000   \n",
       "\n",
       "              Time      Outcome  \n",
       "count  1178.000000  1275.000000  \n",
       "mean      4.702037     0.160784  \n",
       "std       2.858370     0.367476  \n",
       "min       1.000000     0.000000  \n",
       "25%       2.000000     0.000000  \n",
       "50%       4.000000     0.000000  \n",
       "75%       7.000000     0.000000  \n",
       "max       9.000000     1.000000  "
      ]
     },
     "execution_count": 8,
     "metadata": {},
     "output_type": "execute_result"
    }
   ],
   "source": [
    "train.describe()"
   ]
  },
  {
   "cell_type": "markdown",
   "id": "athletic-stuff",
   "metadata": {},
   "source": [
    "#### Replacing 999 in the Age column as NaN"
   ]
  },
  {
   "cell_type": "code",
   "execution_count": 9,
   "id": "altered-alpha",
   "metadata": {},
   "outputs": [],
   "source": [
    "train['Age'] = train['Age'].replace(999,np.nan)"
   ]
  },
  {
   "cell_type": "code",
   "execution_count": 10,
   "id": "yellow-orchestra",
   "metadata": {
    "scrolled": true
   },
   "outputs": [
    {
     "data": {
      "text/html": [
       "<div>\n",
       "<style scoped>\n",
       "    .dataframe tbody tr th:only-of-type {\n",
       "        vertical-align: middle;\n",
       "    }\n",
       "\n",
       "    .dataframe tbody tr th {\n",
       "        vertical-align: top;\n",
       "    }\n",
       "\n",
       "    .dataframe thead th {\n",
       "        text-align: right;\n",
       "    }\n",
       "</style>\n",
       "<table border=\"1\" class=\"dataframe\">\n",
       "  <thead>\n",
       "    <tr style=\"text-align: right;\">\n",
       "      <th></th>\n",
       "      <th>Age</th>\n",
       "      <th>myocardial</th>\n",
       "      <th>Systolic_emergency</th>\n",
       "      <th>Diastolic_emergency</th>\n",
       "      <th>Systolic_intensive_care</th>\n",
       "      <th>Diastolic_intensive_care</th>\n",
       "      <th>Potassium</th>\n",
       "      <th>Sodium</th>\n",
       "      <th>AlAT</th>\n",
       "      <th>AsAT</th>\n",
       "      <th>WBC</th>\n",
       "      <th>ESR</th>\n",
       "      <th>Time</th>\n",
       "      <th>Outcome</th>\n",
       "    </tr>\n",
       "  </thead>\n",
       "  <tbody>\n",
       "    <tr>\n",
       "      <th>count</th>\n",
       "      <td>1271.000000</td>\n",
       "      <td>1274.00000</td>\n",
       "      <td>474.000000</td>\n",
       "      <td>474.000000</td>\n",
       "      <td>1066.000000</td>\n",
       "      <td>1066.000000</td>\n",
       "      <td>993.000000</td>\n",
       "      <td>992.000000</td>\n",
       "      <td>1067.000000</td>\n",
       "      <td>1066.000000</td>\n",
       "      <td>1188.000000</td>\n",
       "      <td>1132.000000</td>\n",
       "      <td>1178.000000</td>\n",
       "      <td>1275.000000</td>\n",
       "    </tr>\n",
       "    <tr>\n",
       "      <th>mean</th>\n",
       "      <td>61.948072</td>\n",
       "      <td>0.56044</td>\n",
       "      <td>137.700422</td>\n",
       "      <td>82.004219</td>\n",
       "      <td>134.812383</td>\n",
       "      <td>83.076923</td>\n",
       "      <td>4.194361</td>\n",
       "      <td>136.607863</td>\n",
       "      <td>0.472671</td>\n",
       "      <td>0.262336</td>\n",
       "      <td>8.843519</td>\n",
       "      <td>13.475265</td>\n",
       "      <td>4.702037</td>\n",
       "      <td>0.160784</td>\n",
       "    </tr>\n",
       "    <tr>\n",
       "      <th>std</th>\n",
       "      <td>11.201609</td>\n",
       "      <td>0.83419</td>\n",
       "      <td>34.681988</td>\n",
       "      <td>19.997145</td>\n",
       "      <td>31.734114</td>\n",
       "      <td>18.631784</td>\n",
       "      <td>0.770440</td>\n",
       "      <td>6.598662</td>\n",
       "      <td>0.386188</td>\n",
       "      <td>0.206220</td>\n",
       "      <td>3.449176</td>\n",
       "      <td>10.796416</td>\n",
       "      <td>2.858370</td>\n",
       "      <td>0.367476</td>\n",
       "    </tr>\n",
       "    <tr>\n",
       "      <th>min</th>\n",
       "      <td>26.000000</td>\n",
       "      <td>0.00000</td>\n",
       "      <td>0.000000</td>\n",
       "      <td>0.000000</td>\n",
       "      <td>0.000000</td>\n",
       "      <td>0.000000</td>\n",
       "      <td>2.300000</td>\n",
       "      <td>117.000000</td>\n",
       "      <td>0.030000</td>\n",
       "      <td>0.040000</td>\n",
       "      <td>2.000000</td>\n",
       "      <td>1.000000</td>\n",
       "      <td>1.000000</td>\n",
       "      <td>0.000000</td>\n",
       "    </tr>\n",
       "    <tr>\n",
       "      <th>25%</th>\n",
       "      <td>54.000000</td>\n",
       "      <td>0.00000</td>\n",
       "      <td>120.000000</td>\n",
       "      <td>70.000000</td>\n",
       "      <td>120.000000</td>\n",
       "      <td>80.000000</td>\n",
       "      <td>3.700000</td>\n",
       "      <td>133.000000</td>\n",
       "      <td>0.230000</td>\n",
       "      <td>0.150000</td>\n",
       "      <td>6.400000</td>\n",
       "      <td>5.000000</td>\n",
       "      <td>2.000000</td>\n",
       "      <td>0.000000</td>\n",
       "    </tr>\n",
       "    <tr>\n",
       "      <th>50%</th>\n",
       "      <td>63.000000</td>\n",
       "      <td>0.00000</td>\n",
       "      <td>140.000000</td>\n",
       "      <td>80.000000</td>\n",
       "      <td>130.000000</td>\n",
       "      <td>80.000000</td>\n",
       "      <td>4.100000</td>\n",
       "      <td>136.000000</td>\n",
       "      <td>0.380000</td>\n",
       "      <td>0.220000</td>\n",
       "      <td>8.100000</td>\n",
       "      <td>10.000000</td>\n",
       "      <td>4.000000</td>\n",
       "      <td>0.000000</td>\n",
       "    </tr>\n",
       "    <tr>\n",
       "      <th>75%</th>\n",
       "      <td>70.000000</td>\n",
       "      <td>1.00000</td>\n",
       "      <td>160.000000</td>\n",
       "      <td>90.000000</td>\n",
       "      <td>150.000000</td>\n",
       "      <td>90.000000</td>\n",
       "      <td>4.600000</td>\n",
       "      <td>140.000000</td>\n",
       "      <td>0.610000</td>\n",
       "      <td>0.300000</td>\n",
       "      <td>10.500000</td>\n",
       "      <td>19.000000</td>\n",
       "      <td>7.000000</td>\n",
       "      <td>0.000000</td>\n",
       "    </tr>\n",
       "    <tr>\n",
       "      <th>max</th>\n",
       "      <td>92.000000</td>\n",
       "      <td>3.00000</td>\n",
       "      <td>260.000000</td>\n",
       "      <td>190.000000</td>\n",
       "      <td>260.000000</td>\n",
       "      <td>190.000000</td>\n",
       "      <td>8.000000</td>\n",
       "      <td>169.000000</td>\n",
       "      <td>3.000000</td>\n",
       "      <td>2.150000</td>\n",
       "      <td>27.900000</td>\n",
       "      <td>68.000000</td>\n",
       "      <td>9.000000</td>\n",
       "      <td>1.000000</td>\n",
       "    </tr>\n",
       "  </tbody>\n",
       "</table>\n",
       "</div>"
      ],
      "text/plain": [
       "               Age  myocardial  Systolic_emergency  Diastolic_emergency  \\\n",
       "count  1271.000000  1274.00000          474.000000           474.000000   \n",
       "mean     61.948072     0.56044          137.700422            82.004219   \n",
       "std      11.201609     0.83419           34.681988            19.997145   \n",
       "min      26.000000     0.00000            0.000000             0.000000   \n",
       "25%      54.000000     0.00000          120.000000            70.000000   \n",
       "50%      63.000000     0.00000          140.000000            80.000000   \n",
       "75%      70.000000     1.00000          160.000000            90.000000   \n",
       "max      92.000000     3.00000          260.000000           190.000000   \n",
       "\n",
       "       Systolic_intensive_care  Diastolic_intensive_care   Potassium  \\\n",
       "count              1066.000000               1066.000000  993.000000   \n",
       "mean                134.812383                 83.076923    4.194361   \n",
       "std                  31.734114                 18.631784    0.770440   \n",
       "min                   0.000000                  0.000000    2.300000   \n",
       "25%                 120.000000                 80.000000    3.700000   \n",
       "50%                 130.000000                 80.000000    4.100000   \n",
       "75%                 150.000000                 90.000000    4.600000   \n",
       "max                 260.000000                190.000000    8.000000   \n",
       "\n",
       "           Sodium         AlAT         AsAT          WBC          ESR  \\\n",
       "count  992.000000  1067.000000  1066.000000  1188.000000  1132.000000   \n",
       "mean   136.607863     0.472671     0.262336     8.843519    13.475265   \n",
       "std      6.598662     0.386188     0.206220     3.449176    10.796416   \n",
       "min    117.000000     0.030000     0.040000     2.000000     1.000000   \n",
       "25%    133.000000     0.230000     0.150000     6.400000     5.000000   \n",
       "50%    136.000000     0.380000     0.220000     8.100000    10.000000   \n",
       "75%    140.000000     0.610000     0.300000    10.500000    19.000000   \n",
       "max    169.000000     3.000000     2.150000    27.900000    68.000000   \n",
       "\n",
       "              Time      Outcome  \n",
       "count  1178.000000  1275.000000  \n",
       "mean      4.702037     0.160784  \n",
       "std       2.858370     0.367476  \n",
       "min       1.000000     0.000000  \n",
       "25%       2.000000     0.000000  \n",
       "50%       4.000000     0.000000  \n",
       "75%       7.000000     0.000000  \n",
       "max       9.000000     1.000000  "
      ]
     },
     "execution_count": 10,
     "metadata": {},
     "output_type": "execute_result"
    }
   ],
   "source": [
    "train.describe()"
   ]
  },
  {
   "cell_type": "code",
   "execution_count": 11,
   "id": "broadband-appliance",
   "metadata": {
    "scrolled": true
   },
   "outputs": [
    {
     "name": "stdout",
     "output_type": "stream",
     "text": [
      "<class 'pandas.core.frame.DataFrame'>\n",
      "RangeIndex: 1275 entries, 0 to 1274\n",
      "Data columns (total 23 columns):\n",
      " #   Column                    Non-Null Count  Dtype  \n",
      "---  ------                    --------------  -----  \n",
      " 0   Age                       1271 non-null   float64\n",
      " 1   Gender                    1275 non-null   object \n",
      " 2   myocardial                1274 non-null   float64\n",
      " 3   Exertional angina         1202 non-null   object \n",
      " 4   FC                        1225 non-null   object \n",
      " 5   Heart Disease             1235 non-null   object \n",
      " 6   Heredity                  57 non-null     object \n",
      " 7   Hypertension              1271 non-null   object \n",
      " 8   Symptomatic hypertension  1272 non-null   object \n",
      " 9   Duration                  1085 non-null   object \n",
      " 10  Arrhythmia                1261 non-null   object \n",
      " 11  Systolic_emergency        474 non-null    float64\n",
      " 12  Diastolic_emergency       474 non-null    float64\n",
      " 13  Systolic_intensive_care   1066 non-null   float64\n",
      " 14  Diastolic_intensive_care  1066 non-null   float64\n",
      " 15  Potassium                 993 non-null    float64\n",
      " 16  Sodium                    992 non-null    float64\n",
      " 17  AlAT                      1067 non-null   float64\n",
      " 18  AsAT                      1066 non-null   float64\n",
      " 19  WBC                       1188 non-null   float64\n",
      " 20  ESR                       1132 non-null   float64\n",
      " 21  Time                      1178 non-null   float64\n",
      " 22  Outcome                   1275 non-null   int64  \n",
      "dtypes: float64(13), int64(1), object(9)\n",
      "memory usage: 229.2+ KB\n"
     ]
    }
   ],
   "source": [
    "train.info()"
   ]
  },
  {
   "cell_type": "markdown",
   "id": "fundamental-filter",
   "metadata": {},
   "source": [
    "#### Test dataset"
   ]
  },
  {
   "cell_type": "code",
   "execution_count": 12,
   "id": "disturbed-flashing",
   "metadata": {},
   "outputs": [],
   "source": [
    "for col in test.columns:\n",
    "    test[col] = test[col].replace('?',np.nan) \n",
    "\n",
    "#Converting numerical columns to float \n",
    "\n",
    "test['Age'] = test['Age'].astype(float)\n",
    "test['myocardial'] = test['myocardial'].astype(float)\n",
    "\n",
    "test[test.columns[11:22]] = test[test.columns[11:22]].astype(float)"
   ]
  },
  {
   "cell_type": "code",
   "execution_count": 13,
   "id": "composite-bankruptcy",
   "metadata": {},
   "outputs": [],
   "source": [
    "test['Age'] = test['Age'].replace(999,np.nan)"
   ]
  },
  {
   "cell_type": "code",
   "execution_count": 14,
   "id": "sunset-equilibrium",
   "metadata": {},
   "outputs": [
    {
     "name": "stdout",
     "output_type": "stream",
     "text": [
      "<class 'pandas.core.frame.DataFrame'>\n",
      "RangeIndex: 425 entries, 0 to 424\n",
      "Data columns (total 22 columns):\n",
      " #   Column                    Non-Null Count  Dtype  \n",
      "---  ------                    --------------  -----  \n",
      " 0   Age                       421 non-null    float64\n",
      " 1   Gender                    425 non-null    object \n",
      " 2   myocardial                422 non-null    float64\n",
      " 3   Exertional angina         392 non-null    object \n",
      " 4   FC                        402 non-null    object \n",
      " 5   Heart Disease             414 non-null    object \n",
      " 6   Heredity                  15 non-null     object \n",
      " 7   Hypertension              420 non-null    object \n",
      " 8   Symptomatic hypertension  420 non-null    object \n",
      " 9   Duration                  367 non-null    object \n",
      " 10  Arrhythmia                418 non-null    object \n",
      " 11  Systolic_emergency        150 non-null    float64\n",
      " 12  Diastolic_emergency       150 non-null    float64\n",
      " 13  Systolic_intensive_care   367 non-null    float64\n",
      " 14  Diastolic_intensive_care  367 non-null    float64\n",
      " 15  Potassium                 336 non-null    float64\n",
      " 16  Sodium                    333 non-null    float64\n",
      " 17  AlAT                      349 non-null    float64\n",
      " 18  AsAT                      349 non-null    float64\n",
      " 19  WBC                       387 non-null    float64\n",
      " 20  ESR                       365 non-null    float64\n",
      " 21  Time                      396 non-null    float64\n",
      "dtypes: float64(13), object(9)\n",
      "memory usage: 73.2+ KB\n"
     ]
    }
   ],
   "source": [
    "test.info()"
   ]
  },
  {
   "cell_type": "markdown",
   "id": "frequent-replacement",
   "metadata": {},
   "source": [
    "### Exploratory analysis"
   ]
  },
  {
   "cell_type": "markdown",
   "id": "after-private",
   "metadata": {},
   "source": [
    "Observing the Missing values"
   ]
  },
  {
   "cell_type": "code",
   "execution_count": 15,
   "id": "silver-police",
   "metadata": {},
   "outputs": [
    {
     "data": {
      "text/plain": [
       "1267"
      ]
     },
     "execution_count": 15,
     "metadata": {},
     "output_type": "execute_result"
    }
   ],
   "source": [
    "train.isnull().any(axis= 'columns').sum()"
   ]
  },
  {
   "cell_type": "code",
   "execution_count": 16,
   "id": "reported-child",
   "metadata": {
    "scrolled": true
   },
   "outputs": [
    {
     "data": {
      "text/plain": [
       "Age                            4\n",
       "Gender                         0\n",
       "myocardial                     1\n",
       "Exertional angina             73\n",
       "FC                            50\n",
       "Heart Disease                 40\n",
       "Heredity                    1218\n",
       "Hypertension                   4\n",
       "Symptomatic hypertension       3\n",
       "Duration                     190\n",
       "Arrhythmia                    14\n",
       "Systolic_emergency           801\n",
       "Diastolic_emergency          801\n",
       "Systolic_intensive_care      209\n",
       "Diastolic_intensive_care     209\n",
       "Potassium                    282\n",
       "Sodium                       283\n",
       "AlAT                         208\n",
       "AsAT                         209\n",
       "WBC                           87\n",
       "ESR                          143\n",
       "Time                          97\n",
       "Outcome                        0\n",
       "dtype: int64"
      ]
     },
     "execution_count": 16,
     "metadata": {},
     "output_type": "execute_result"
    }
   ],
   "source": [
    "train.isnull().sum()"
   ]
  },
  {
   "cell_type": "markdown",
   "id": "desperate-increase",
   "metadata": {},
   "source": [
    "#### Age"
   ]
  },
  {
   "cell_type": "code",
   "execution_count": 17,
   "id": "romance-cleanup",
   "metadata": {
    "scrolled": false
   },
   "outputs": [
    {
     "data": {
      "text/plain": [
       "Text(0.5, 1.0, 'Age histogram')"
      ]
     },
     "execution_count": 17,
     "metadata": {},
     "output_type": "execute_result"
    },
    {
     "data": {
      "image/png": "[encoded data removed]",
      "text/plain": [
       "<Figure size 432x288 with 1 Axes>"
      ]
     },
     "metadata": {
      "needs_background": "light"
     },
     "output_type": "display_data"
    }
   ],
   "source": [
    "train.Age.hist()\n",
    "plt.title('Age histogram')"
   ]
  },
  {
   "cell_type": "markdown",
   "id": "dangerous-fellowship",
   "metadata": {},
   "source": [
    "The Age histogram is approximately normally distributed with Mean ~ 62 and Median ~ 63\n",
    "and will hence use Median imputation "
   ]
  },
  {
   "cell_type": "code",
   "execution_count": 18,
   "id": "identical-water",
   "metadata": {
    "scrolled": true
   },
   "outputs": [
    {
     "data": {
      "text/html": [
       "<div>\n",
       "<style scoped>\n",
       "    .dataframe tbody tr th:only-of-type {\n",
       "        vertical-align: middle;\n",
       "    }\n",
       "\n",
       "    .dataframe tbody tr th {\n",
       "        vertical-align: top;\n",
       "    }\n",
       "\n",
       "    .dataframe thead th {\n",
       "        text-align: right;\n",
       "    }\n",
       "</style>\n",
       "<table border=\"1\" class=\"dataframe\">\n",
       "  <thead>\n",
       "    <tr style=\"text-align: right;\">\n",
       "      <th></th>\n",
       "      <th>Age</th>\n",
       "    </tr>\n",
       "    <tr>\n",
       "      <th>Outcome</th>\n",
       "      <th></th>\n",
       "    </tr>\n",
       "  </thead>\n",
       "  <tbody>\n",
       "    <tr>\n",
       "      <th>0</th>\n",
       "      <td>62.0</td>\n",
       "    </tr>\n",
       "    <tr>\n",
       "      <th>1</th>\n",
       "      <td>67.0</td>\n",
       "    </tr>\n",
       "  </tbody>\n",
       "</table>\n",
       "</div>"
      ],
      "text/plain": [
       "          Age\n",
       "Outcome      \n",
       "0        62.0\n",
       "1        67.0"
      ]
     },
     "execution_count": 18,
     "metadata": {},
     "output_type": "execute_result"
    }
   ],
   "source": [
    "train[['Age','Outcome']].groupby('Outcome').median()"
   ]
  },
  {
   "cell_type": "markdown",
   "id": "unusual-smile",
   "metadata": {},
   "source": [
    "We see that mean Age for people tested to have MI complication is greater than people who have no MI complication."
   ]
  },
  {
   "cell_type": "code",
   "execution_count": 19,
   "id": "likely-infrastructure",
   "metadata": {
    "scrolled": true
   },
   "outputs": [
    {
     "data": {
      "text/html": [
       "<div>\n",
       "<style scoped>\n",
       "    .dataframe tbody tr th:only-of-type {\n",
       "        vertical-align: middle;\n",
       "    }\n",
       "\n",
       "    .dataframe tbody tr th {\n",
       "        vertical-align: top;\n",
       "    }\n",
       "\n",
       "    .dataframe thead th {\n",
       "        text-align: right;\n",
       "    }\n",
       "</style>\n",
       "<table border=\"1\" class=\"dataframe\">\n",
       "  <thead>\n",
       "    <tr style=\"text-align: right;\">\n",
       "      <th></th>\n",
       "      <th>Age</th>\n",
       "      <th>Gender</th>\n",
       "      <th>myocardial</th>\n",
       "      <th>Exertional angina</th>\n",
       "      <th>FC</th>\n",
       "      <th>Heart Disease</th>\n",
       "      <th>Heredity</th>\n",
       "      <th>Hypertension</th>\n",
       "      <th>Symptomatic hypertension</th>\n",
       "      <th>Duration</th>\n",
       "      <th>...</th>\n",
       "      <th>Systolic_intensive_care</th>\n",
       "      <th>Diastolic_intensive_care</th>\n",
       "      <th>Potassium</th>\n",
       "      <th>Sodium</th>\n",
       "      <th>AlAT</th>\n",
       "      <th>AsAT</th>\n",
       "      <th>WBC</th>\n",
       "      <th>ESR</th>\n",
       "      <th>Time</th>\n",
       "      <th>Outcome</th>\n",
       "    </tr>\n",
       "  </thead>\n",
       "  <tbody>\n",
       "    <tr>\n",
       "      <th>248</th>\n",
       "      <td>NaN</td>\n",
       "      <td>Male</td>\n",
       "      <td>0.0</td>\n",
       "      <td>Two years ago</td>\n",
       "      <td>II FC</td>\n",
       "      <td>Unstable angina</td>\n",
       "      <td>NaN</td>\n",
       "      <td>Stage 2</td>\n",
       "      <td>No</td>\n",
       "      <td>More than 10 years</td>\n",
       "      <td>...</td>\n",
       "      <td>NaN</td>\n",
       "      <td>NaN</td>\n",
       "      <td>4.7</td>\n",
       "      <td>142.0</td>\n",
       "      <td>0.30</td>\n",
       "      <td>0.07</td>\n",
       "      <td>10.3</td>\n",
       "      <td>17.0</td>\n",
       "      <td>6.0</td>\n",
       "      <td>0</td>\n",
       "    </tr>\n",
       "    <tr>\n",
       "      <th>295</th>\n",
       "      <td>NaN</td>\n",
       "      <td>Male</td>\n",
       "      <td>0.0</td>\n",
       "      <td>Two years ago</td>\n",
       "      <td>II FC</td>\n",
       "      <td>Unstable angina</td>\n",
       "      <td>NaN</td>\n",
       "      <td>No</td>\n",
       "      <td>No</td>\n",
       "      <td>No hypertension</td>\n",
       "      <td>...</td>\n",
       "      <td>NaN</td>\n",
       "      <td>NaN</td>\n",
       "      <td>3.9</td>\n",
       "      <td>131.0</td>\n",
       "      <td>0.45</td>\n",
       "      <td>0.30</td>\n",
       "      <td>12.7</td>\n",
       "      <td>9.0</td>\n",
       "      <td>3.0</td>\n",
       "      <td>0</td>\n",
       "    </tr>\n",
       "    <tr>\n",
       "      <th>547</th>\n",
       "      <td>NaN</td>\n",
       "      <td>Female</td>\n",
       "      <td>2.0</td>\n",
       "      <td>More than five years ago</td>\n",
       "      <td>II FC</td>\n",
       "      <td>Exertional angina</td>\n",
       "      <td>NaN</td>\n",
       "      <td>Stage 2</td>\n",
       "      <td>No</td>\n",
       "      <td>Six to ten years</td>\n",
       "      <td>...</td>\n",
       "      <td>100.0</td>\n",
       "      <td>60.0</td>\n",
       "      <td>4.6</td>\n",
       "      <td>132.0</td>\n",
       "      <td>0.75</td>\n",
       "      <td>0.22</td>\n",
       "      <td>5.6</td>\n",
       "      <td>14.0</td>\n",
       "      <td>3.0</td>\n",
       "      <td>0</td>\n",
       "    </tr>\n",
       "    <tr>\n",
       "      <th>729</th>\n",
       "      <td>NaN</td>\n",
       "      <td>Male</td>\n",
       "      <td>0.0</td>\n",
       "      <td>Never</td>\n",
       "      <td>No angina</td>\n",
       "      <td>No angina</td>\n",
       "      <td>NaN</td>\n",
       "      <td>No</td>\n",
       "      <td>No</td>\n",
       "      <td>No hypertension</td>\n",
       "      <td>...</td>\n",
       "      <td>140.0</td>\n",
       "      <td>90.0</td>\n",
       "      <td>NaN</td>\n",
       "      <td>NaN</td>\n",
       "      <td>NaN</td>\n",
       "      <td>NaN</td>\n",
       "      <td>15.5</td>\n",
       "      <td>10.0</td>\n",
       "      <td>8.0</td>\n",
       "      <td>0</td>\n",
       "    </tr>\n",
       "  </tbody>\n",
       "</table>\n",
       "<p>4 rows × 23 columns</p>\n",
       "</div>"
      ],
      "text/plain": [
       "     Age  Gender  myocardial         Exertional angina         FC  \\\n",
       "248  NaN    Male         0.0             Two years ago      II FC   \n",
       "295  NaN    Male         0.0             Two years ago      II FC   \n",
       "547  NaN  Female         2.0  More than five years ago      II FC   \n",
       "729  NaN    Male         0.0                     Never  No angina   \n",
       "\n",
       "         Heart Disease Heredity Hypertension Symptomatic hypertension  \\\n",
       "248    Unstable angina      NaN      Stage 2                       No   \n",
       "295    Unstable angina      NaN           No                       No   \n",
       "547  Exertional angina      NaN      Stage 2                       No   \n",
       "729          No angina      NaN           No                       No   \n",
       "\n",
       "               Duration  ... Systolic_intensive_care  \\\n",
       "248  More than 10 years  ...                     NaN   \n",
       "295     No hypertension  ...                     NaN   \n",
       "547    Six to ten years  ...                   100.0   \n",
       "729     No hypertension  ...                   140.0   \n",
       "\n",
       "     Diastolic_intensive_care  Potassium  Sodium  AlAT  AsAT   WBC   ESR  \\\n",
       "248                       NaN        4.7   142.0  0.30  0.07  10.3  17.0   \n",
       "295                       NaN        3.9   131.0  0.45  0.30  12.7   9.0   \n",
       "547                      60.0        4.6   132.0  0.75  0.22   5.6  14.0   \n",
       "729                      90.0        NaN     NaN   NaN   NaN  15.5  10.0   \n",
       "\n",
       "     Time  Outcome  \n",
       "248   6.0        0  \n",
       "295   3.0        0  \n",
       "547   3.0        0  \n",
       "729   8.0        0  \n",
       "\n",
       "[4 rows x 23 columns]"
      ]
     },
     "execution_count": 19,
     "metadata": {},
     "output_type": "execute_result"
    }
   ],
   "source": [
    "train[train['Age'].isnull()]"
   ]
  },
  {
   "cell_type": "code",
   "execution_count": 20,
   "id": "manufactured-vessel",
   "metadata": {},
   "outputs": [
    {
     "data": {
      "text/html": [
       "<div>\n",
       "<style scoped>\n",
       "    .dataframe tbody tr th:only-of-type {\n",
       "        vertical-align: middle;\n",
       "    }\n",
       "\n",
       "    .dataframe tbody tr th {\n",
       "        vertical-align: top;\n",
       "    }\n",
       "\n",
       "    .dataframe thead th {\n",
       "        text-align: right;\n",
       "    }\n",
       "</style>\n",
       "<table border=\"1\" class=\"dataframe\">\n",
       "  <thead>\n",
       "    <tr style=\"text-align: right;\">\n",
       "      <th></th>\n",
       "      <th>Age</th>\n",
       "    </tr>\n",
       "    <tr>\n",
       "      <th>Gender</th>\n",
       "      <th></th>\n",
       "    </tr>\n",
       "  </thead>\n",
       "  <tbody>\n",
       "    <tr>\n",
       "      <th>Female</th>\n",
       "      <td>68.0</td>\n",
       "    </tr>\n",
       "    <tr>\n",
       "      <th>Male</th>\n",
       "      <td>59.0</td>\n",
       "    </tr>\n",
       "  </tbody>\n",
       "</table>\n",
       "</div>"
      ],
      "text/plain": [
       "         Age\n",
       "Gender      \n",
       "Female  68.0\n",
       "Male    59.0"
      ]
     },
     "execution_count": 20,
     "metadata": {},
     "output_type": "execute_result"
    }
   ],
   "source": [
    "train[['Age','Gender']].groupby('Gender').median()"
   ]
  },
  {
   "cell_type": "markdown",
   "id": "irish-bibliography",
   "metadata": {},
   "source": [
    "Median age in the dataset for Female is 68 and Male is 59.\n",
    "\n",
    "Age imputation will be done maintaining this distribution"
   ]
  },
  {
   "cell_type": "code",
   "execution_count": 21,
   "id": "prompt-spencer",
   "metadata": {},
   "outputs": [],
   "source": [
    "train['Age'] = train['Age'].fillna(train.groupby('Gender')['Age'].transform('median'))"
   ]
  },
  {
   "cell_type": "code",
   "execution_count": 22,
   "id": "compressed-computer",
   "metadata": {},
   "outputs": [],
   "source": [
    "test['Age'] = test['Age'].fillna(train.groupby('Gender')['Age'].transform('median'))"
   ]
  },
  {
   "cell_type": "markdown",
   "id": "raising-voluntary",
   "metadata": {},
   "source": [
    "#### Gender"
   ]
  },
  {
   "cell_type": "code",
   "execution_count": 23,
   "id": "narrow-seeking",
   "metadata": {},
   "outputs": [
    {
     "data": {
      "text/plain": [
       "<AxesSubplot:title={'center':'Gender counts'}>"
      ]
     },
     "execution_count": 23,
     "metadata": {},
     "output_type": "execute_result"
    },
    {
     "data": {
      "image/png": "[encoded data removed]",
      "text/plain": [
       "<Figure size 432x288 with 1 Axes>"
      ]
     },
     "metadata": {
      "needs_background": "light"
     },
     "output_type": "display_data"
    }
   ],
   "source": [
    "train.Gender.value_counts().plot(kind = 'bar', title = 'Gender counts')"
   ]
  },
  {
   "cell_type": "markdown",
   "id": "secret-dimension",
   "metadata": {},
   "source": [
    "We can see that there are more Male than Female in the dataset.\n",
    "Mapping Male to 1 and Female to 0"
   ]
  },
  {
   "cell_type": "code",
   "execution_count": 24,
   "id": "twenty-naples",
   "metadata": {},
   "outputs": [],
   "source": [
    "train['Gender']=train['Gender'].map({'Female':0,'Male':1}).astype(int)"
   ]
  },
  {
   "cell_type": "code",
   "execution_count": 25,
   "id": "governing-vampire",
   "metadata": {},
   "outputs": [],
   "source": [
    "test['Gender']=test['Gender'].map({'Female':0,'Male':1}).astype(int)"
   ]
  },
  {
   "cell_type": "markdown",
   "id": "looking-tourist",
   "metadata": {},
   "source": [
    "#### Myocardial - ordinal "
   ]
  },
  {
   "cell_type": "code",
   "execution_count": 26,
   "id": "recent-barcelona",
   "metadata": {},
   "outputs": [
    {
     "data": {
      "text/plain": [
       "<AxesSubplot:title={'center':'Myocardial counts'}>"
      ]
     },
     "execution_count": 26,
     "metadata": {},
     "output_type": "execute_result"
    },
    {
     "data": {
      "image/png": "[encoded data removed]",
      "text/plain": [
       "<Figure size 432x288 with 1 Axes>"
      ]
     },
     "metadata": {
      "needs_background": "light"
     },
     "output_type": "display_data"
    }
   ],
   "source": [
    "train['myocardial'].value_counts().plot(kind = 'bar', title = 'Myocardial counts')"
   ]
  },
  {
   "cell_type": "markdown",
   "id": "falling-rings",
   "metadata": {},
   "source": [
    "We see that 0 is the dominant value"
   ]
  },
  {
   "cell_type": "markdown",
   "id": "level-ethnic",
   "metadata": {},
   "source": [
    "Examining Heart Disease and Myocardial value to check if it has a variation."
   ]
  },
  {
   "cell_type": "code",
   "execution_count": 27,
   "id": "tracked-physiology",
   "metadata": {},
   "outputs": [
    {
     "data": {
      "text/html": [
       "<div>\n",
       "<style scoped>\n",
       "    .dataframe tbody tr th:only-of-type {\n",
       "        vertical-align: middle;\n",
       "    }\n",
       "\n",
       "    .dataframe tbody tr th {\n",
       "        vertical-align: top;\n",
       "    }\n",
       "\n",
       "    .dataframe thead th {\n",
       "        text-align: right;\n",
       "    }\n",
       "</style>\n",
       "<table border=\"1\" class=\"dataframe\">\n",
       "  <thead>\n",
       "    <tr style=\"text-align: right;\">\n",
       "      <th></th>\n",
       "      <th>myocardial</th>\n",
       "    </tr>\n",
       "    <tr>\n",
       "      <th>Heart Disease</th>\n",
       "      <th></th>\n",
       "    </tr>\n",
       "  </thead>\n",
       "  <tbody>\n",
       "    <tr>\n",
       "      <th>Exertional angina</th>\n",
       "      <td>0.0</td>\n",
       "    </tr>\n",
       "    <tr>\n",
       "      <th>No angina</th>\n",
       "      <td>0.0</td>\n",
       "    </tr>\n",
       "    <tr>\n",
       "      <th>Unstable angina</th>\n",
       "      <td>0.0</td>\n",
       "    </tr>\n",
       "  </tbody>\n",
       "</table>\n",
       "</div>"
      ],
      "text/plain": [
       "                   myocardial\n",
       "Heart Disease                \n",
       "Exertional angina         0.0\n",
       "No angina                 0.0\n",
       "Unstable angina           0.0"
      ]
     },
     "execution_count": 27,
     "metadata": {},
     "output_type": "execute_result"
    }
   ],
   "source": [
    "train[['Heart Disease','myocardial']].groupby('Heart Disease').agg(pd.Series.mode)"
   ]
  },
  {
   "cell_type": "markdown",
   "id": "supreme-finding",
   "metadata": {},
   "source": [
    "We don't see a difference and is hence not useful."
   ]
  },
  {
   "cell_type": "markdown",
   "id": "dangerous-hygiene",
   "metadata": {},
   "source": [
    "Imputing mode = 0 to the missing value"
   ]
  },
  {
   "cell_type": "code",
   "execution_count": 28,
   "id": "difficult-simon",
   "metadata": {},
   "outputs": [],
   "source": [
    "train['myocardial'] = train['myocardial'].fillna(0).astype(int)"
   ]
  },
  {
   "cell_type": "code",
   "execution_count": 29,
   "id": "persistent-fancy",
   "metadata": {},
   "outputs": [],
   "source": [
    "test['myocardial'] = test['myocardial'] .fillna(0).astype(int)"
   ]
  },
  {
   "cell_type": "markdown",
   "id": "corresponding-retail",
   "metadata": {},
   "source": [
    "#### Exertional Angina"
   ]
  },
  {
   "cell_type": "code",
   "execution_count": 30,
   "id": "approved-savage",
   "metadata": {
    "scrolled": true
   },
   "outputs": [
    {
     "data": {
      "text/plain": [
       "Never                       504\n",
       "More than five years ago    254\n",
       "During the last year        105\n",
       "One year ago                103\n",
       "Two years ago                92\n",
       "Four to five years ago       91\n",
       "Three years ago              53\n",
       "Name: Exertional angina, dtype: int64"
      ]
     },
     "execution_count": 30,
     "metadata": {},
     "output_type": "execute_result"
    }
   ],
   "source": [
    "train['Exertional angina'].value_counts()"
   ]
  },
  {
   "cell_type": "code",
   "execution_count": 31,
   "id": "mexican-subscriber",
   "metadata": {},
   "outputs": [
    {
     "data": {
      "text/plain": [
       "<AxesSubplot:title={'center':'Exertional Angina counts'}>"
      ]
     },
     "execution_count": 31,
     "metadata": {},
     "output_type": "execute_result"
    },
    {
     "data": {
      "image/png": "[encoded data removed]",
      "text/plain": [
       "<Figure size 432x288 with 1 Axes>"
      ]
     },
     "metadata": {
      "needs_background": "light"
     },
     "output_type": "display_data"
    }
   ],
   "source": [
    "train['Exertional angina'].value_counts().plot(kind = 'bar', title = 'Exertional Angina counts')"
   ]
  },
  {
   "cell_type": "code",
   "execution_count": 32,
   "id": "atomic-cross",
   "metadata": {},
   "outputs": [],
   "source": [
    "#mode imputation and one-hot vector encoding - train data\n",
    "train['Exertional angina'].replace(np.NaN, 'Never', inplace = True)"
   ]
  },
  {
   "cell_type": "code",
   "execution_count": 33,
   "id": "sound-population",
   "metadata": {},
   "outputs": [],
   "source": [
    "cols = pd.get_dummies(train['Exertional angina'], prefix = 'Exertionalangina')\n",
    "train[cols.columns] = cols\n",
    "train.drop('Exertional angina', axis = 1, inplace = True)"
   ]
  },
  {
   "cell_type": "code",
   "execution_count": 34,
   "id": "measured-register",
   "metadata": {},
   "outputs": [],
   "source": [
    "#mode imputation and one-hot vector encoding - test data\n",
    "test['Exertional angina'].replace(np.NaN, 'Never', inplace = True)"
   ]
  },
  {
   "cell_type": "code",
   "execution_count": 35,
   "id": "dedicated-fishing",
   "metadata": {},
   "outputs": [],
   "source": [
    "cols = pd.get_dummies(test['Exertional angina'],prefix = 'Exertionalangina')\n",
    "test[cols.columns] = cols\n",
    "test.drop('Exertional angina', axis = 1, inplace = True)"
   ]
  },
  {
   "cell_type": "markdown",
   "id": "mineral-sunrise",
   "metadata": {},
   "source": [
    "#### Functional Class - ordinal"
   ]
  },
  {
   "cell_type": "code",
   "execution_count": 36,
   "id": "controversial-soundtrack",
   "metadata": {},
   "outputs": [
    {
     "data": {
      "text/plain": [
       "II FC        639\n",
       "No angina    503\n",
       "III FC        38\n",
       "I FC          37\n",
       "IV FC          8\n",
       "Name: FC, dtype: int64"
      ]
     },
     "execution_count": 36,
     "metadata": {},
     "output_type": "execute_result"
    }
   ],
   "source": [
    "train['FC'].value_counts()"
   ]
  },
  {
   "cell_type": "code",
   "execution_count": 37,
   "id": "suspended-terry",
   "metadata": {},
   "outputs": [
    {
     "data": {
      "text/plain": [
       "<AxesSubplot:title={'center':'Functional class count'}>"
      ]
     },
     "execution_count": 37,
     "metadata": {},
     "output_type": "execute_result"
    },
    {
     "data": {
      "image/png": "[encoded data removed]",
      "text/plain": [
       "<Figure size 432x288 with 1 Axes>"
      ]
     },
     "metadata": {
      "needs_background": "light"
     },
     "output_type": "display_data"
    }
   ],
   "source": [
    "train['FC'].value_counts().plot(kind = 'bar', title = 'Functional class count')"
   ]
  },
  {
   "cell_type": "markdown",
   "id": "inside-preserve",
   "metadata": {},
   "source": [
    "Replacing NaN with most frequent value and mapping the categorical value to numerical,thereby making it ordinal"
   ]
  },
  {
   "cell_type": "code",
   "execution_count": 38,
   "id": "recreational-active",
   "metadata": {},
   "outputs": [],
   "source": [
    "train['FC'].replace(np.NaN, 'II FC', inplace = True)"
   ]
  },
  {
   "cell_type": "code",
   "execution_count": 39,
   "id": "figured-matter",
   "metadata": {},
   "outputs": [],
   "source": [
    "train['FC'] = train['FC'].map({'No angina':0,\n",
    "                              'I FC':1,\n",
    "                              'II FC':2,\n",
    "                              'III FC':3,\n",
    "                              'IV FC':4 }).astype(int)"
   ]
  },
  {
   "cell_type": "code",
   "execution_count": 40,
   "id": "curious-edward",
   "metadata": {},
   "outputs": [],
   "source": [
    "test['FC'].replace(np.NaN, 'II FC', inplace = True)"
   ]
  },
  {
   "cell_type": "code",
   "execution_count": 41,
   "id": "associate-elimination",
   "metadata": {},
   "outputs": [],
   "source": [
    "test['FC'] = test['FC'].map({'No angina':0,\n",
    "                              'I FC':1,\n",
    "                              'II FC':2,\n",
    "                              'III FC':3,\n",
    "                              'IV FC':4 }).astype(int)"
   ]
  },
  {
   "cell_type": "markdown",
   "id": "annoying-irrigation",
   "metadata": {},
   "source": [
    "#### Heart Disease"
   ]
  },
  {
   "cell_type": "code",
   "execution_count": 42,
   "id": "italic-truck",
   "metadata": {
    "scrolled": true
   },
   "outputs": [
    {
     "data": {
      "text/plain": [
       "<AxesSubplot:title={'center':'Heart Disease counts'}>"
      ]
     },
     "execution_count": 42,
     "metadata": {},
     "output_type": "execute_result"
    },
    {
     "data": {
      "image/png": "[encoded data removed]",
      "text/plain": [
       "<Figure size 432x288 with 1 Axes>"
      ]
     },
     "metadata": {
      "needs_background": "light"
     },
     "output_type": "display_data"
    }
   ],
   "source": [
    "train['Heart Disease'].value_counts().plot(kind = 'bar', title = 'Heart Disease counts' )"
   ]
  },
  {
   "cell_type": "markdown",
   "id": "lightweight-ratio",
   "metadata": {},
   "source": [
    "Replacing NaN with most common category and one-hot encoding the column"
   ]
  },
  {
   "cell_type": "code",
   "execution_count": 43,
   "id": "terminal-safety",
   "metadata": {},
   "outputs": [],
   "source": [
    "train['Heart Disease'].fillna('Unstable angina', inplace = True)"
   ]
  },
  {
   "cell_type": "code",
   "execution_count": 44,
   "id": "electronic-fundamental",
   "metadata": {},
   "outputs": [],
   "source": [
    "cols = pd.get_dummies(train['Heart Disease'], prefix = 'HeartDisease')\n",
    "train[cols.columns] = cols\n",
    "train.drop('Heart Disease', axis = 1, inplace = True)"
   ]
  },
  {
   "cell_type": "code",
   "execution_count": 45,
   "id": "french-bargain",
   "metadata": {},
   "outputs": [],
   "source": [
    "test['Heart Disease'].fillna('Unstable angina', inplace = True)"
   ]
  },
  {
   "cell_type": "code",
   "execution_count": 46,
   "id": "removable-disney",
   "metadata": {},
   "outputs": [],
   "source": [
    "cols = pd.get_dummies(test['Heart Disease'], prefix = 'HeartDisease')\n",
    "test[cols.columns] = cols\n",
    "test.drop('Heart Disease', axis = 1, inplace = True)"
   ]
  },
  {
   "cell_type": "markdown",
   "id": "finite-elizabeth",
   "metadata": {},
   "source": [
    "#### Hypertension"
   ]
  },
  {
   "cell_type": "code",
   "execution_count": 47,
   "id": "first-brush",
   "metadata": {
    "scrolled": true
   },
   "outputs": [
    {
     "data": {
      "text/plain": [
       "array(['Stage 2', 'No', nan, 'Stage 3', 'Stage 1'], dtype=object)"
      ]
     },
     "execution_count": 47,
     "metadata": {},
     "output_type": "execute_result"
    }
   ],
   "source": [
    "train['Hypertension'].unique()"
   ]
  },
  {
   "cell_type": "code",
   "execution_count": 48,
   "id": "medical-shade",
   "metadata": {},
   "outputs": [
    {
     "data": {
      "text/plain": [
       "Stage 2    670\n",
       "No         445\n",
       "Stage 3    148\n",
       "Stage 1      8\n",
       "Name: Hypertension, dtype: int64"
      ]
     },
     "execution_count": 48,
     "metadata": {},
     "output_type": "execute_result"
    }
   ],
   "source": [
    "train['Hypertension'].value_counts()"
   ]
  },
  {
   "cell_type": "code",
   "execution_count": 49,
   "id": "russian-shanghai",
   "metadata": {},
   "outputs": [],
   "source": [
    "train['Hypertension'].fillna('Stage 2', inplace = True)"
   ]
  },
  {
   "cell_type": "code",
   "execution_count": 50,
   "id": "colored-apparatus",
   "metadata": {},
   "outputs": [],
   "source": [
    "cols = pd.get_dummies(train['Hypertension'], prefix = 'Hypertension')\n",
    "train[cols.columns] = cols\n",
    "train.drop('Hypertension', axis = 1, inplace = True)"
   ]
  },
  {
   "cell_type": "code",
   "execution_count": 51,
   "id": "immune-warren",
   "metadata": {},
   "outputs": [],
   "source": [
    "test['Hypertension'].fillna('Stage 2', inplace = True)"
   ]
  },
  {
   "cell_type": "code",
   "execution_count": 52,
   "id": "backed-donna",
   "metadata": {},
   "outputs": [],
   "source": [
    "cols = pd.get_dummies(test['Hypertension'],prefix = 'Hypertension')\n",
    "test[cols.columns] = cols\n",
    "test.drop('Hypertension', axis = 1, inplace = True)"
   ]
  },
  {
   "cell_type": "markdown",
   "id": "blocked-bookmark",
   "metadata": {},
   "source": [
    "#### Symptomatic hypertension"
   ]
  },
  {
   "cell_type": "code",
   "execution_count": 53,
   "id": "invalid-fleece",
   "metadata": {},
   "outputs": [
    {
     "data": {
      "text/plain": [
       "array(['No', nan, 'Yes'], dtype=object)"
      ]
     },
     "execution_count": 53,
     "metadata": {},
     "output_type": "execute_result"
    }
   ],
   "source": [
    "train['Symptomatic hypertension'].unique()"
   ]
  },
  {
   "cell_type": "code",
   "execution_count": 54,
   "id": "continental-joint",
   "metadata": {},
   "outputs": [
    {
     "data": {
      "text/plain": [
       "<AxesSubplot:title={'center':'Symptomatic Hypertension count'}>"
      ]
     },
     "execution_count": 54,
     "metadata": {},
     "output_type": "execute_result"
    },
    {
     "data": {
      "image/png": "[encoded data removed]",
      "text/plain": [
       "<Figure size 432x288 with 1 Axes>"
      ]
     },
     "metadata": {
      "needs_background": "light"
     },
     "output_type": "display_data"
    }
   ],
   "source": [
    "train['Symptomatic hypertension'].value_counts().plot(kind = 'bar', title = 'Symptomatic Hypertension count')"
   ]
  },
  {
   "cell_type": "markdown",
   "id": "resistant-ceremony",
   "metadata": {},
   "source": [
    "Most of the values are No. Replacing NA's with 'No' and encoding most frequent value 'No' as 1 and 'Yes' as 0"
   ]
  },
  {
   "cell_type": "code",
   "execution_count": 55,
   "id": "allied-rough",
   "metadata": {},
   "outputs": [],
   "source": [
    "train['Symptomatic hypertension'].fillna('No', inplace = True)"
   ]
  },
  {
   "cell_type": "code",
   "execution_count": 56,
   "id": "streaming-chaos",
   "metadata": {},
   "outputs": [],
   "source": [
    "train['Symptomatic hypertension'] = train['Symptomatic hypertension'].map({'No':1,'Yes':0})"
   ]
  },
  {
   "cell_type": "code",
   "execution_count": 57,
   "id": "interior-nickel",
   "metadata": {},
   "outputs": [],
   "source": [
    "test['Symptomatic hypertension'].fillna('No', inplace = True)"
   ]
  },
  {
   "cell_type": "code",
   "execution_count": 58,
   "id": "useful-circular",
   "metadata": {},
   "outputs": [],
   "source": [
    "test['Symptomatic hypertension'] = test['Symptomatic hypertension'].map({'No':1,'Yes':0})"
   ]
  },
  {
   "cell_type": "code",
   "execution_count": 59,
   "id": "composed-marks",
   "metadata": {},
   "outputs": [
    {
     "data": {
      "text/plain": [
       "1    417\n",
       "0      8\n",
       "Name: Symptomatic hypertension, dtype: int64"
      ]
     },
     "execution_count": 59,
     "metadata": {},
     "output_type": "execute_result"
    }
   ],
   "source": [
    "test['Symptomatic hypertension'].value_counts()"
   ]
  },
  {
   "cell_type": "markdown",
   "id": "caroline-daniel",
   "metadata": {},
   "source": [
    "#### Duration"
   ]
  },
  {
   "cell_type": "code",
   "execution_count": 60,
   "id": "associate-blake",
   "metadata": {},
   "outputs": [
    {
     "data": {
      "text/plain": [
       "array([nan, 'One year', 'No hypertension', 'More than 10 years',\n",
       "       'Six to ten years', 'Three years', 'Five years', 'Four years',\n",
       "       'Two years'], dtype=object)"
      ]
     },
     "execution_count": 60,
     "metadata": {},
     "output_type": "execute_result"
    }
   ],
   "source": [
    "train['Duration'].unique()"
   ]
  },
  {
   "cell_type": "code",
   "execution_count": 61,
   "id": "signed-payroll",
   "metadata": {},
   "outputs": [
    {
     "data": {
      "text/plain": [
       "<AxesSubplot:title={'center':'Duration counts'}>"
      ]
     },
     "execution_count": 61,
     "metadata": {},
     "output_type": "execute_result"
    },
    {
     "data": {
      "image/png": "[encoded data removed]",
      "text/plain": [
       "<Figure size 432x288 with 1 Axes>"
      ]
     },
     "metadata": {
      "needs_background": "light"
     },
     "output_type": "display_data"
    }
   ],
   "source": [
    "train['Duration'].value_counts().plot(kind = 'bar', title = 'Duration counts')"
   ]
  },
  {
   "cell_type": "markdown",
   "id": "accessory-recommendation",
   "metadata": {},
   "source": [
    "Replacing NAs with 'No hypertension' and one-hot encoding the column"
   ]
  },
  {
   "cell_type": "code",
   "execution_count": 62,
   "id": "funky-survey",
   "metadata": {},
   "outputs": [],
   "source": [
    "train['Duration'].fillna('No hypertension', inplace = True)"
   ]
  },
  {
   "cell_type": "code",
   "execution_count": 63,
   "id": "polished-daniel",
   "metadata": {},
   "outputs": [],
   "source": [
    "cols = pd.get_dummies(train['Duration'],prefix = 'Duration')\n",
    "train[cols.columns] = cols\n",
    "train.drop('Duration', axis = 1, inplace = True)"
   ]
  },
  {
   "cell_type": "code",
   "execution_count": 64,
   "id": "advanced-matthew",
   "metadata": {},
   "outputs": [],
   "source": [
    "test['Duration'].fillna('No hypertension', inplace = True)"
   ]
  },
  {
   "cell_type": "code",
   "execution_count": 65,
   "id": "buried-species",
   "metadata": {},
   "outputs": [],
   "source": [
    "cols = pd.get_dummies(test['Duration'],prefix = 'Duration')\n",
    "test[cols.columns] = cols\n",
    "test.drop('Duration', axis = 1, inplace = True)"
   ]
  },
  {
   "cell_type": "markdown",
   "id": "legislative-violence",
   "metadata": {},
   "source": [
    "#### Arrhythmia"
   ]
  },
  {
   "cell_type": "code",
   "execution_count": 66,
   "id": "incomplete-gamma",
   "metadata": {},
   "outputs": [
    {
     "data": {
      "text/plain": [
       "array(['No', nan, 'Yes'], dtype=object)"
      ]
     },
     "execution_count": 66,
     "metadata": {},
     "output_type": "execute_result"
    }
   ],
   "source": [
    "train['Arrhythmia'].unique()"
   ]
  },
  {
   "cell_type": "code",
   "execution_count": 67,
   "id": "industrial-wages",
   "metadata": {},
   "outputs": [
    {
     "data": {
      "text/plain": [
       "<AxesSubplot:title={'center':'Arrhythmia counts'}>"
      ]
     },
     "execution_count": 67,
     "metadata": {},
     "output_type": "execute_result"
    },
    {
     "data": {
      "image/png": "[encoded data removed]",
      "text/plain": [
       "<Figure size 432x288 with 1 Axes>"
      ]
     },
     "metadata": {
      "needs_background": "light"
     },
     "output_type": "display_data"
    }
   ],
   "source": [
    "train['Arrhythmia'].value_counts().plot(kind = 'bar', title = 'Arrhythmia counts')"
   ]
  },
  {
   "cell_type": "markdown",
   "id": "through-international",
   "metadata": {},
   "source": [
    "Replacing NAs with 'No' and mapping 'No' to 1 and 'Yes' to 0"
   ]
  },
  {
   "cell_type": "code",
   "execution_count": 68,
   "id": "right-resistance",
   "metadata": {},
   "outputs": [],
   "source": [
    "train['Arrhythmia'].fillna('No', inplace = True) "
   ]
  },
  {
   "cell_type": "code",
   "execution_count": 69,
   "id": "light-trick",
   "metadata": {},
   "outputs": [],
   "source": [
    "train['Arrhythmia']= train['Arrhythmia'].map({'No':1,'Yes':0})"
   ]
  },
  {
   "cell_type": "code",
   "execution_count": 70,
   "id": "alternate-soviet",
   "metadata": {},
   "outputs": [],
   "source": [
    "test['Arrhythmia'].fillna('No', inplace = True) "
   ]
  },
  {
   "cell_type": "code",
   "execution_count": 71,
   "id": "signal-roads",
   "metadata": {},
   "outputs": [],
   "source": [
    "test['Arrhythmia']= test['Arrhythmia'].map({'No':1,'Yes':0})"
   ]
  },
  {
   "cell_type": "markdown",
   "id": "lasting-belize",
   "metadata": {},
   "source": [
    "#### Systolic intensive care"
   ]
  },
  {
   "cell_type": "code",
   "execution_count": 72,
   "id": "robust-oriental",
   "metadata": {},
   "outputs": [
    {
     "data": {
      "text/plain": [
       "count    1066.000000\n",
       "mean      134.812383\n",
       "std        31.734114\n",
       "min         0.000000\n",
       "25%       120.000000\n",
       "50%       130.000000\n",
       "75%       150.000000\n",
       "max       260.000000\n",
       "Name: Systolic_intensive_care, dtype: float64"
      ]
     },
     "execution_count": 72,
     "metadata": {},
     "output_type": "execute_result"
    }
   ],
   "source": [
    "train['Systolic_intensive_care'].describe()"
   ]
  },
  {
   "cell_type": "code",
   "execution_count": 73,
   "id": "dominant-japan",
   "metadata": {},
   "outputs": [
    {
     "data": {
      "text/plain": [
       "<AxesSubplot:>"
      ]
     },
     "execution_count": 73,
     "metadata": {},
     "output_type": "execute_result"
    },
    {
     "data": {
      "image/png": "[encoded data removed]",
      "text/plain": [
       "<Figure size 432x288 with 1 Axes>"
      ]
     },
     "metadata": {
      "needs_background": "light"
     },
     "output_type": "display_data"
    }
   ],
   "source": [
    "train['Systolic_intensive_care'].hist()"
   ]
  },
  {
   "cell_type": "markdown",
   "id": "mobile-necklace",
   "metadata": {},
   "source": [
    "Replacing NAs with Median"
   ]
  },
  {
   "cell_type": "code",
   "execution_count": 74,
   "id": "thirty-cambridge",
   "metadata": {},
   "outputs": [],
   "source": [
    "train['Systolic_intensive_care'].fillna(train['Systolic_intensive_care'].median(), inplace = True)"
   ]
  },
  {
   "cell_type": "code",
   "execution_count": 75,
   "id": "fitting-upset",
   "metadata": {},
   "outputs": [],
   "source": [
    "test['Systolic_intensive_care'].fillna(train['Systolic_intensive_care'].median(), inplace = True)"
   ]
  },
  {
   "cell_type": "markdown",
   "id": "obvious-edition",
   "metadata": {},
   "source": [
    "#### Diastolic intensive care"
   ]
  },
  {
   "cell_type": "code",
   "execution_count": 76,
   "id": "civilian-edition",
   "metadata": {},
   "outputs": [
    {
     "data": {
      "text/plain": [
       "count    1066.000000\n",
       "mean       83.076923\n",
       "std        18.631784\n",
       "min         0.000000\n",
       "25%        80.000000\n",
       "50%        80.000000\n",
       "75%        90.000000\n",
       "max       190.000000\n",
       "Name: Diastolic_intensive_care, dtype: float64"
      ]
     },
     "execution_count": 76,
     "metadata": {},
     "output_type": "execute_result"
    }
   ],
   "source": [
    "train['Diastolic_intensive_care'].describe()"
   ]
  },
  {
   "cell_type": "code",
   "execution_count": 77,
   "id": "accomplished-briefs",
   "metadata": {},
   "outputs": [
    {
     "data": {
      "text/plain": [
       "<AxesSubplot:>"
      ]
     },
     "execution_count": 77,
     "metadata": {},
     "output_type": "execute_result"
    },
    {
     "data": {
      "image/png": "[encoded data removed]",
      "text/plain": [
       "<Figure size 432x288 with 1 Axes>"
      ]
     },
     "metadata": {
      "needs_background": "light"
     },
     "output_type": "display_data"
    }
   ],
   "source": [
    "train['Diastolic_intensive_care'].hist()"
   ]
  },
  {
   "cell_type": "markdown",
   "id": "athletic-diving",
   "metadata": {},
   "source": [
    "Replacing NAs with median"
   ]
  },
  {
   "cell_type": "code",
   "execution_count": 78,
   "id": "bibliographic-partition",
   "metadata": {},
   "outputs": [],
   "source": [
    "train['Diastolic_intensive_care'].fillna(train['Diastolic_intensive_care'].median(), inplace = True)"
   ]
  },
  {
   "cell_type": "code",
   "execution_count": 79,
   "id": "theoretical-behalf",
   "metadata": {},
   "outputs": [],
   "source": [
    "test['Diastolic_intensive_care'].fillna(train['Diastolic_intensive_care'].median(), inplace = True)"
   ]
  },
  {
   "cell_type": "markdown",
   "id": "established-driving",
   "metadata": {},
   "source": [
    "#### Potassium"
   ]
  },
  {
   "cell_type": "code",
   "execution_count": 80,
   "id": "blank-saturn",
   "metadata": {},
   "outputs": [
    {
     "data": {
      "text/plain": [
       "count    993.000000\n",
       "mean       4.194361\n",
       "std        0.770440\n",
       "min        2.300000\n",
       "25%        3.700000\n",
       "50%        4.100000\n",
       "75%        4.600000\n",
       "max        8.000000\n",
       "Name: Potassium, dtype: float64"
      ]
     },
     "execution_count": 80,
     "metadata": {},
     "output_type": "execute_result"
    }
   ],
   "source": [
    "train['Potassium'].describe()"
   ]
  },
  {
   "cell_type": "code",
   "execution_count": 81,
   "id": "labeled-imperial",
   "metadata": {
    "scrolled": true
   },
   "outputs": [
    {
     "data": {
      "text/plain": [
       "<AxesSubplot:>"
      ]
     },
     "execution_count": 81,
     "metadata": {},
     "output_type": "execute_result"
    },
    {
     "data": {
      "image/png": "[encoded data removed]",
      "text/plain": [
       "<Figure size 432x288 with 1 Axes>"
      ]
     },
     "metadata": {
      "needs_background": "light"
     },
     "output_type": "display_data"
    }
   ],
   "source": [
    "train['Potassium'].hist()"
   ]
  },
  {
   "cell_type": "code",
   "execution_count": 82,
   "id": "willing-thanksgiving",
   "metadata": {},
   "outputs": [],
   "source": [
    "train['Potassium'].fillna(train['Potassium'].median(), inplace = True)"
   ]
  },
  {
   "cell_type": "code",
   "execution_count": 83,
   "id": "lovely-piano",
   "metadata": {},
   "outputs": [],
   "source": [
    "test['Potassium'].fillna(train['Potassium'].median(), inplace = True)"
   ]
  },
  {
   "cell_type": "markdown",
   "id": "painful-background",
   "metadata": {},
   "source": [
    "#### Sodium "
   ]
  },
  {
   "cell_type": "code",
   "execution_count": 84,
   "id": "aggressive-oakland",
   "metadata": {
    "scrolled": true
   },
   "outputs": [
    {
     "data": {
      "text/plain": [
       "count    992.000000\n",
       "mean     136.607863\n",
       "std        6.598662\n",
       "min      117.000000\n",
       "25%      133.000000\n",
       "50%      136.000000\n",
       "75%      140.000000\n",
       "max      169.000000\n",
       "Name: Sodium, dtype: float64"
      ]
     },
     "execution_count": 84,
     "metadata": {},
     "output_type": "execute_result"
    }
   ],
   "source": [
    "train['Sodium'].describe()"
   ]
  },
  {
   "cell_type": "code",
   "execution_count": 85,
   "id": "fresh-bangladesh",
   "metadata": {},
   "outputs": [
    {
     "data": {
      "text/plain": [
       "<AxesSubplot:>"
      ]
     },
     "execution_count": 85,
     "metadata": {},
     "output_type": "execute_result"
    },
    {
     "data": {
      "image/png": "[encoded data removed]",
      "text/plain": [
       "<Figure size 432x288 with 1 Axes>"
      ]
     },
     "metadata": {
      "needs_background": "light"
     },
     "output_type": "display_data"
    }
   ],
   "source": [
    "train['Sodium'].hist()"
   ]
  },
  {
   "cell_type": "code",
   "execution_count": 86,
   "id": "employed-terrorist",
   "metadata": {},
   "outputs": [],
   "source": [
    "train['Sodium'].fillna(train['Sodium'].median(), inplace = True)"
   ]
  },
  {
   "cell_type": "code",
   "execution_count": 87,
   "id": "liable-allen",
   "metadata": {},
   "outputs": [],
   "source": [
    "test['Sodium'].fillna(train['Sodium'].median(), inplace = True)"
   ]
  },
  {
   "cell_type": "markdown",
   "id": "adapted-mount",
   "metadata": {},
   "source": [
    "#### AlAT"
   ]
  },
  {
   "cell_type": "code",
   "execution_count": 88,
   "id": "deluxe-burns",
   "metadata": {},
   "outputs": [
    {
     "data": {
      "text/plain": [
       "count    1067.000000\n",
       "mean        0.472671\n",
       "std         0.386188\n",
       "min         0.030000\n",
       "25%         0.230000\n",
       "50%         0.380000\n",
       "75%         0.610000\n",
       "max         3.000000\n",
       "Name: AlAT, dtype: float64"
      ]
     },
     "execution_count": 88,
     "metadata": {},
     "output_type": "execute_result"
    }
   ],
   "source": [
    "train['AlAT'].describe()"
   ]
  },
  {
   "cell_type": "code",
   "execution_count": 89,
   "id": "focal-liability",
   "metadata": {},
   "outputs": [
    {
     "data": {
      "text/plain": [
       "<AxesSubplot:>"
      ]
     },
     "execution_count": 89,
     "metadata": {},
     "output_type": "execute_result"
    },
    {
     "data": {
      "image/png": "[encoded data removed]",
      "text/plain": [
       "<Figure size 432x288 with 1 Axes>"
      ]
     },
     "metadata": {
      "needs_background": "light"
     },
     "output_type": "display_data"
    }
   ],
   "source": [
    "train['AlAT'].hist()"
   ]
  },
  {
   "cell_type": "code",
   "execution_count": 90,
   "id": "comic-patent",
   "metadata": {},
   "outputs": [],
   "source": [
    "train['AlAT'].fillna(train['AlAT'].median(), inplace = True)"
   ]
  },
  {
   "cell_type": "code",
   "execution_count": 91,
   "id": "fifteen-november",
   "metadata": {},
   "outputs": [],
   "source": [
    "test['AlAT'].fillna(train['AlAT'].median(), inplace = True)"
   ]
  },
  {
   "cell_type": "markdown",
   "id": "local-stopping",
   "metadata": {},
   "source": [
    "#### AsTK"
   ]
  },
  {
   "cell_type": "code",
   "execution_count": 92,
   "id": "enormous-graduate",
   "metadata": {},
   "outputs": [
    {
     "data": {
      "text/plain": [
       "count    1066.000000\n",
       "mean        0.262336\n",
       "std         0.206220\n",
       "min         0.040000\n",
       "25%         0.150000\n",
       "50%         0.220000\n",
       "75%         0.300000\n",
       "max         2.150000\n",
       "Name: AsAT, dtype: float64"
      ]
     },
     "execution_count": 92,
     "metadata": {},
     "output_type": "execute_result"
    }
   ],
   "source": [
    "train['AsAT'].describe()"
   ]
  },
  {
   "cell_type": "code",
   "execution_count": 93,
   "id": "current-budget",
   "metadata": {},
   "outputs": [
    {
     "data": {
      "text/plain": [
       "<AxesSubplot:>"
      ]
     },
     "execution_count": 93,
     "metadata": {},
     "output_type": "execute_result"
    },
    {
     "data": {
      "image/png": "[encoded data removed]",
      "text/plain": [
       "<Figure size 432x288 with 1 Axes>"
      ]
     },
     "metadata": {
      "needs_background": "light"
     },
     "output_type": "display_data"
    }
   ],
   "source": [
    "train['AsAT'].hist()"
   ]
  },
  {
   "cell_type": "code",
   "execution_count": 94,
   "id": "simple-instrumentation",
   "metadata": {},
   "outputs": [],
   "source": [
    "train['AsAT'].fillna(train['AsAT'].median(), inplace = True)"
   ]
  },
  {
   "cell_type": "code",
   "execution_count": 95,
   "id": "champion-stress",
   "metadata": {},
   "outputs": [],
   "source": [
    "test['AsAT'].fillna(train['AsAT'].median(), inplace = True)"
   ]
  },
  {
   "cell_type": "markdown",
   "id": "continued-relationship",
   "metadata": {},
   "source": [
    "#### WBC"
   ]
  },
  {
   "cell_type": "code",
   "execution_count": 96,
   "id": "dependent-place",
   "metadata": {},
   "outputs": [
    {
     "data": {
      "text/plain": [
       "count    1188.000000\n",
       "mean        8.843519\n",
       "std         3.449176\n",
       "min         2.000000\n",
       "25%         6.400000\n",
       "50%         8.100000\n",
       "75%        10.500000\n",
       "max        27.900000\n",
       "Name: WBC, dtype: float64"
      ]
     },
     "execution_count": 96,
     "metadata": {},
     "output_type": "execute_result"
    }
   ],
   "source": [
    "train['WBC'].describe()"
   ]
  },
  {
   "cell_type": "code",
   "execution_count": 97,
   "id": "cloudy-lecture",
   "metadata": {},
   "outputs": [
    {
     "data": {
      "text/plain": [
       "<AxesSubplot:>"
      ]
     },
     "execution_count": 97,
     "metadata": {},
     "output_type": "execute_result"
    },
    {
     "data": {
      "image/png": "[encoded data removed]",
      "text/plain": [
       "<Figure size 432x288 with 1 Axes>"
      ]
     },
     "metadata": {
      "needs_background": "light"
     },
     "output_type": "display_data"
    }
   ],
   "source": [
    "train['WBC'].hist()"
   ]
  },
  {
   "cell_type": "code",
   "execution_count": 98,
   "id": "first-welsh",
   "metadata": {},
   "outputs": [],
   "source": [
    "train['WBC'].fillna(train['WBC'].median(), inplace = True)"
   ]
  },
  {
   "cell_type": "code",
   "execution_count": 99,
   "id": "roman-camel",
   "metadata": {},
   "outputs": [],
   "source": [
    "test['WBC'].fillna(train['WBC'].median(), inplace = True)"
   ]
  },
  {
   "cell_type": "markdown",
   "id": "balanced-drilling",
   "metadata": {},
   "source": [
    "#### ESR"
   ]
  },
  {
   "cell_type": "code",
   "execution_count": 100,
   "id": "adverse-dimension",
   "metadata": {},
   "outputs": [
    {
     "data": {
      "text/plain": [
       "count    1132.000000\n",
       "mean       13.475265\n",
       "std        10.796416\n",
       "min         1.000000\n",
       "25%         5.000000\n",
       "50%        10.000000\n",
       "75%        19.000000\n",
       "max        68.000000\n",
       "Name: ESR, dtype: float64"
      ]
     },
     "execution_count": 100,
     "metadata": {},
     "output_type": "execute_result"
    }
   ],
   "source": [
    "train['ESR'].describe()"
   ]
  },
  {
   "cell_type": "code",
   "execution_count": 101,
   "id": "exempt-night",
   "metadata": {},
   "outputs": [
    {
     "data": {
      "text/plain": [
       "<AxesSubplot:>"
      ]
     },
     "execution_count": 101,
     "metadata": {},
     "output_type": "execute_result"
    },
    {
     "data": {
      "image/png": "[encoded data removed]",
      "text/plain": [
       "<Figure size 432x288 with 1 Axes>"
      ]
     },
     "metadata": {
      "needs_background": "light"
     },
     "output_type": "display_data"
    }
   ],
   "source": [
    "train['ESR'].hist()"
   ]
  },
  {
   "cell_type": "code",
   "execution_count": 102,
   "id": "quiet-manor",
   "metadata": {},
   "outputs": [],
   "source": [
    "train['ESR'].fillna(train['ESR'].median(), inplace = True)"
   ]
  },
  {
   "cell_type": "code",
   "execution_count": 103,
   "id": "ultimate-remainder",
   "metadata": {},
   "outputs": [],
   "source": [
    "test['ESR'].fillna(train['ESR'].median(), inplace = True)"
   ]
  },
  {
   "cell_type": "markdown",
   "id": "extreme-shannon",
   "metadata": {},
   "source": [
    "#### Time"
   ]
  },
  {
   "cell_type": "code",
   "execution_count": 104,
   "id": "featured-start",
   "metadata": {},
   "outputs": [
    {
     "data": {
      "text/plain": [
       "count    1178.000000\n",
       "mean        4.702037\n",
       "std         2.858370\n",
       "min         1.000000\n",
       "25%         2.000000\n",
       "50%         4.000000\n",
       "75%         7.000000\n",
       "max         9.000000\n",
       "Name: Time, dtype: float64"
      ]
     },
     "execution_count": 104,
     "metadata": {},
     "output_type": "execute_result"
    }
   ],
   "source": [
    "train['Time'].describe()"
   ]
  },
  {
   "cell_type": "code",
   "execution_count": 105,
   "id": "fewer-adobe",
   "metadata": {},
   "outputs": [
    {
     "data": {
      "text/plain": [
       "<AxesSubplot:>"
      ]
     },
     "execution_count": 105,
     "metadata": {},
     "output_type": "execute_result"
    },
    {
     "data": {
      "image/png": "[encoded data removed]",
      "text/plain": [
       "<Figure size 432x288 with 1 Axes>"
      ]
     },
     "metadata": {
      "needs_background": "light"
     },
     "output_type": "display_data"
    }
   ],
   "source": [
    "train['Time'].hist()"
   ]
  },
  {
   "cell_type": "code",
   "execution_count": 106,
   "id": "excellent-bennett",
   "metadata": {},
   "outputs": [],
   "source": [
    "train['Time'].fillna(train['Time'].median(), inplace = True)"
   ]
  },
  {
   "cell_type": "code",
   "execution_count": 107,
   "id": "minus-coaching",
   "metadata": {},
   "outputs": [],
   "source": [
    "test['Time'].fillna(train['Time'].median(), inplace = True)"
   ]
  },
  {
   "cell_type": "markdown",
   "id": "charming-spelling",
   "metadata": {},
   "source": [
    "#### Outcome"
   ]
  },
  {
   "cell_type": "code",
   "execution_count": 108,
   "id": "robust-trouble",
   "metadata": {
    "scrolled": true
   },
   "outputs": [
    {
     "data": {
      "text/plain": [
       "<AxesSubplot:title={'center':'Outcome Counts'}>"
      ]
     },
     "execution_count": 108,
     "metadata": {},
     "output_type": "execute_result"
    },
    {
     "data": {
      "image/png": "[encoded data removed]",
      "text/plain": [
       "<Figure size 432x288 with 1 Axes>"
      ]
     },
     "metadata": {
      "needs_background": "light"
     },
     "output_type": "display_data"
    }
   ],
   "source": [
    "train['Outcome'].value_counts().plot(kind = 'bar', title = 'Outcome Counts')"
   ]
  },
  {
   "cell_type": "markdown",
   "id": "improved-richards",
   "metadata": {},
   "source": [
    "We see that the value 0 is dominant, i.e., there are more 0's than 1's and the data is an unbalanced dataset"
   ]
  },
  {
   "cell_type": "markdown",
   "id": "forbidden-hardwood",
   "metadata": {},
   "source": [
    "#### Dropping other columns having more than 60% missing values"
   ]
  },
  {
   "cell_type": "markdown",
   "id": "dress-front",
   "metadata": {},
   "source": [
    "#### Heredity"
   ]
  },
  {
   "cell_type": "code",
   "execution_count": 109,
   "id": "inappropriate-device",
   "metadata": {},
   "outputs": [],
   "source": [
    "\n",
    "train.drop('Heredity', axis = 1, inplace = True)\n",
    "\n",
    "test.drop('Heredity', axis = 1, inplace = True)"
   ]
  },
  {
   "cell_type": "markdown",
   "id": "behavioral-delay",
   "metadata": {},
   "source": [
    "#### Systolic emergency"
   ]
  },
  {
   "cell_type": "code",
   "execution_count": 110,
   "id": "japanese-independence",
   "metadata": {},
   "outputs": [],
   "source": [
    "train.drop('Systolic_emergency', axis = 1, inplace = True)"
   ]
  },
  {
   "cell_type": "code",
   "execution_count": 111,
   "id": "manual-particle",
   "metadata": {},
   "outputs": [],
   "source": [
    "test.drop('Systolic_emergency', axis = 1, inplace = True)"
   ]
  },
  {
   "cell_type": "markdown",
   "id": "scenic-herald",
   "metadata": {},
   "source": [
    "#### Diastolic emergency"
   ]
  },
  {
   "cell_type": "code",
   "execution_count": 112,
   "id": "announced-palestinian",
   "metadata": {},
   "outputs": [],
   "source": [
    "train.drop('Diastolic_emergency', axis = 1, inplace = True)"
   ]
  },
  {
   "cell_type": "code",
   "execution_count": 113,
   "id": "recent-specialist",
   "metadata": {},
   "outputs": [],
   "source": [
    "test.drop('Diastolic_emergency', axis = 1, inplace = True)"
   ]
  },
  {
   "cell_type": "markdown",
   "id": "creative-provincial",
   "metadata": {},
   "source": [
    "### Final test dataset with no missing values"
   ]
  },
  {
   "cell_type": "code",
   "execution_count": 114,
   "id": "grateful-longer",
   "metadata": {},
   "outputs": [
    {
     "name": "stdout",
     "output_type": "stream",
     "text": [
      "<class 'pandas.core.frame.DataFrame'>\n",
      "RangeIndex: 425 entries, 0 to 424\n",
      "Data columns (total 37 columns):\n",
      " #   Column                                     Non-Null Count  Dtype  \n",
      "---  ------                                     --------------  -----  \n",
      " 0   Age                                        425 non-null    float64\n",
      " 1   Gender                                     425 non-null    int64  \n",
      " 2   myocardial                                 425 non-null    int64  \n",
      " 3   FC                                         425 non-null    int64  \n",
      " 4   Symptomatic hypertension                   425 non-null    int64  \n",
      " 5   Arrhythmia                                 425 non-null    int64  \n",
      " 6   Systolic_intensive_care                    425 non-null    float64\n",
      " 7   Diastolic_intensive_care                   425 non-null    float64\n",
      " 8   Potassium                                  425 non-null    float64\n",
      " 9   Sodium                                     425 non-null    float64\n",
      " 10  AlAT                                       425 non-null    float64\n",
      " 11  AsAT                                       425 non-null    float64\n",
      " 12  WBC                                        425 non-null    float64\n",
      " 13  ESR                                        425 non-null    float64\n",
      " 14  Time                                       425 non-null    float64\n",
      " 15  Exertionalangina_During the last year      425 non-null    uint8  \n",
      " 16  Exertionalangina_Four to five years ago    425 non-null    uint8  \n",
      " 17  Exertionalangina_More than five years ago  425 non-null    uint8  \n",
      " 18  Exertionalangina_Never                     425 non-null    uint8  \n",
      " 19  Exertionalangina_One year ago              425 non-null    uint8  \n",
      " 20  Exertionalangina_Three years ago           425 non-null    uint8  \n",
      " 21  Exertionalangina_Two years ago             425 non-null    uint8  \n",
      " 22  HeartDisease_Exertional angina             425 non-null    uint8  \n",
      " 23  HeartDisease_No angina                     425 non-null    uint8  \n",
      " 24  HeartDisease_Unstable angina               425 non-null    uint8  \n",
      " 25  Hypertension_No                            425 non-null    uint8  \n",
      " 26  Hypertension_Stage 1                       425 non-null    uint8  \n",
      " 27  Hypertension_Stage 2                       425 non-null    uint8  \n",
      " 28  Hypertension_Stage 3                       425 non-null    uint8  \n",
      " 29  Duration_Five years                        425 non-null    uint8  \n",
      " 30  Duration_Four years                        425 non-null    uint8  \n",
      " 31  Duration_More than 10 years                425 non-null    uint8  \n",
      " 32  Duration_No hypertension                   425 non-null    uint8  \n",
      " 33  Duration_One year                          425 non-null    uint8  \n",
      " 34  Duration_Six to ten years                  425 non-null    uint8  \n",
      " 35  Duration_Three years                       425 non-null    uint8  \n",
      " 36  Duration_Two years                         425 non-null    uint8  \n",
      "dtypes: float64(10), int64(5), uint8(22)\n",
      "memory usage: 59.1 KB\n"
     ]
    }
   ],
   "source": [
    "test.info()"
   ]
  },
  {
   "cell_type": "markdown",
   "id": "upset-criticism",
   "metadata": {},
   "source": [
    "### Final train dataset with no missing values"
   ]
  },
  {
   "cell_type": "code",
   "execution_count": 115,
   "id": "patent-forth",
   "metadata": {
    "scrolled": false
   },
   "outputs": [
    {
     "name": "stdout",
     "output_type": "stream",
     "text": [
      "<class 'pandas.core.frame.DataFrame'>\n",
      "RangeIndex: 1275 entries, 0 to 1274\n",
      "Data columns (total 38 columns):\n",
      " #   Column                                     Non-Null Count  Dtype  \n",
      "---  ------                                     --------------  -----  \n",
      " 0   Age                                        1275 non-null   float64\n",
      " 1   Gender                                     1275 non-null   int64  \n",
      " 2   myocardial                                 1275 non-null   int64  \n",
      " 3   FC                                         1275 non-null   int64  \n",
      " 4   Symptomatic hypertension                   1275 non-null   int64  \n",
      " 5   Arrhythmia                                 1275 non-null   int64  \n",
      " 6   Systolic_intensive_care                    1275 non-null   float64\n",
      " 7   Diastolic_intensive_care                   1275 non-null   float64\n",
      " 8   Potassium                                  1275 non-null   float64\n",
      " 9   Sodium                                     1275 non-null   float64\n",
      " 10  AlAT                                       1275 non-null   float64\n",
      " 11  AsAT                                       1275 non-null   float64\n",
      " 12  WBC                                        1275 non-null   float64\n",
      " 13  ESR                                        1275 non-null   float64\n",
      " 14  Time                                       1275 non-null   float64\n",
      " 15  Outcome                                    1275 non-null   int64  \n",
      " 16  Exertionalangina_During the last year      1275 non-null   uint8  \n",
      " 17  Exertionalangina_Four to five years ago    1275 non-null   uint8  \n",
      " 18  Exertionalangina_More than five years ago  1275 non-null   uint8  \n",
      " 19  Exertionalangina_Never                     1275 non-null   uint8  \n",
      " 20  Exertionalangina_One year ago              1275 non-null   uint8  \n",
      " 21  Exertionalangina_Three years ago           1275 non-null   uint8  \n",
      " 22  Exertionalangina_Two years ago             1275 non-null   uint8  \n",
      " 23  HeartDisease_Exertional angina             1275 non-null   uint8  \n",
      " 24  HeartDisease_No angina                     1275 non-null   uint8  \n",
      " 25  HeartDisease_Unstable angina               1275 non-null   uint8  \n",
      " 26  Hypertension_No                            1275 non-null   uint8  \n",
      " 27  Hypertension_Stage 1                       1275 non-null   uint8  \n",
      " 28  Hypertension_Stage 2                       1275 non-null   uint8  \n",
      " 29  Hypertension_Stage 3                       1275 non-null   uint8  \n",
      " 30  Duration_Five years                        1275 non-null   uint8  \n",
      " 31  Duration_Four years                        1275 non-null   uint8  \n",
      " 32  Duration_More than 10 years                1275 non-null   uint8  \n",
      " 33  Duration_No hypertension                   1275 non-null   uint8  \n",
      " 34  Duration_One year                          1275 non-null   uint8  \n",
      " 35  Duration_Six to ten years                  1275 non-null   uint8  \n",
      " 36  Duration_Three years                       1275 non-null   uint8  \n",
      " 37  Duration_Two years                         1275 non-null   uint8  \n",
      "dtypes: float64(10), int64(6), uint8(22)\n",
      "memory usage: 186.9 KB\n"
     ]
    }
   ],
   "source": [
    "train.info()"
   ]
  },
  {
   "cell_type": "code",
   "execution_count": 116,
   "id": "systematic-holmes",
   "metadata": {
    "scrolled": false
   },
   "outputs": [
    {
     "data": {
      "text/plain": [
       "array([[<AxesSubplot:xlabel='Systolic_intensive_care', ylabel='Systolic_intensive_care'>,\n",
       "        <AxesSubplot:xlabel='Diastolic_intensive_care', ylabel='Systolic_intensive_care'>,\n",
       "        <AxesSubplot:xlabel='Potassium', ylabel='Systolic_intensive_care'>,\n",
       "        <AxesSubplot:xlabel='Sodium', ylabel='Systolic_intensive_care'>,\n",
       "        <AxesSubplot:xlabel='AlAT', ylabel='Systolic_intensive_care'>],\n",
       "       [<AxesSubplot:xlabel='Systolic_intensive_care', ylabel='Diastolic_intensive_care'>,\n",
       "        <AxesSubplot:xlabel='Diastolic_intensive_care', ylabel='Diastolic_intensive_care'>,\n",
       "        <AxesSubplot:xlabel='Potassium', ylabel='Diastolic_intensive_care'>,\n",
       "        <AxesSubplot:xlabel='Sodium', ylabel='Diastolic_intensive_care'>,\n",
       "        <AxesSubplot:xlabel='AlAT', ylabel='Diastolic_intensive_care'>],\n",
       "       [<AxesSubplot:xlabel='Systolic_intensive_care', ylabel='Potassium'>,\n",
       "        <AxesSubplot:xlabel='Diastolic_intensive_care', ylabel='Potassium'>,\n",
       "        <AxesSubplot:xlabel='Potassium', ylabel='Potassium'>,\n",
       "        <AxesSubplot:xlabel='Sodium', ylabel='Potassium'>,\n",
       "        <AxesSubplot:xlabel='AlAT', ylabel='Potassium'>],\n",
       "       [<AxesSubplot:xlabel='Systolic_intensive_care', ylabel='Sodium'>,\n",
       "        <AxesSubplot:xlabel='Diastolic_intensive_care', ylabel='Sodium'>,\n",
       "        <AxesSubplot:xlabel='Potassium', ylabel='Sodium'>,\n",
       "        <AxesSubplot:xlabel='Sodium', ylabel='Sodium'>,\n",
       "        <AxesSubplot:xlabel='AlAT', ylabel='Sodium'>],\n",
       "       [<AxesSubplot:xlabel='Systolic_intensive_care', ylabel='AlAT'>,\n",
       "        <AxesSubplot:xlabel='Diastolic_intensive_care', ylabel='AlAT'>,\n",
       "        <AxesSubplot:xlabel='Potassium', ylabel='AlAT'>,\n",
       "        <AxesSubplot:xlabel='Sodium', ylabel='AlAT'>,\n",
       "        <AxesSubplot:xlabel='AlAT', ylabel='AlAT'>]], dtype=object)"
      ]
     },
     "execution_count": 116,
     "metadata": {},
     "output_type": "execute_result"
    },
    {
     "data": {
      "image/png": "[encoded data removed]",
      "text/plain": [
       "<Figure size 1080x1080 with 25 Axes>"
      ]
     },
     "metadata": {
      "needs_background": "light"
     },
     "output_type": "display_data"
    }
   ],
   "source": [
    "#Visualizing few columns\n",
    "\n",
    "from pandas.plotting import scatter_matrix\n",
    "X = train.drop('Outcome', axis = 1)\n",
    "y = train['Outcome']\n",
    "\n",
    "attributes = X.columns[6:11]\n",
    "scatter_matrix(X[attributes], figsize = (15,15), c = y, alpha = 0.8, marker = 'O')"
   ]
  },
  {
   "cell_type": "markdown",
   "id": "compressed-elimination",
   "metadata": {},
   "source": [
    "# Machine learning models"
   ]
  },
  {
   "cell_type": "markdown",
   "id": "fancy-letter",
   "metadata": {},
   "source": [
    "Since the dataset is unbalanced with the Outcome variable having less 1's and more 0's, accuracy will not be a good predictor. \n",
    "\n",
    "Recall oriented scoring such as F1 or ROC AUC will be needed.\n",
    "\n",
    "ROC AUC scoring will be used for model evaluation."
   ]
  },
  {
   "cell_type": "code",
   "execution_count": 117,
   "id": "legendary-reunion",
   "metadata": {},
   "outputs": [],
   "source": [
    "X = train.drop('Outcome', axis = 1)\n",
    "y = train['Outcome']"
   ]
  },
  {
   "cell_type": "code",
   "execution_count": 118,
   "id": "compressed-blues",
   "metadata": {},
   "outputs": [],
   "source": [
    "from sklearn.model_selection import train_test_split\n",
    "from sklearn.preprocessing import MinMaxScaler\n",
    "\n",
    "X_train_org, X_val_org, y_train, y_val = train_test_split(X,y, random_state = 0)"
   ]
  },
  {
   "cell_type": "code",
   "execution_count": 119,
   "id": "silent-venice",
   "metadata": {},
   "outputs": [],
   "source": [
    "#Scaling the dataset using MinMax Scaler\n",
    "\n",
    "scaler = MinMaxScaler()\n",
    "colnames = X.columns\n",
    "X_train = scaler.fit_transform(X_train_org)\n",
    "X_val = scaler.transform(X_val_org)\n",
    "test_data = scaler.transform(test)"
   ]
  },
  {
   "cell_type": "markdown",
   "id": "another-founder",
   "metadata": {},
   "source": [
    "### KNN Classifier"
   ]
  },
  {
   "cell_type": "code",
   "execution_count": 120,
   "id": "conceptual-hanging",
   "metadata": {},
   "outputs": [],
   "source": [
    "from sklearn.model_selection import GridSearchCV\n",
    "from sklearn.neighbors import KNeighborsClassifier\n",
    "\n",
    "\n",
    "param_grid = { 'n_neighbors' : range(1,20) }\n",
    "\n",
    "knn = KNeighborsClassifier()\n",
    "grid_search = GridSearchCV(knn, param_grid, cv = 5, scoring = 'roc_auc').fit(X_train,y_train)"
   ]
  },
  {
   "cell_type": "code",
   "execution_count": 121,
   "id": "subject-software",
   "metadata": {},
   "outputs": [
    {
     "name": "stdout",
     "output_type": "stream",
     "text": [
      "Cross validation score :  0.6725050403225807\n",
      "Best parameters :  {'n_neighbors': 14}\n"
     ]
    }
   ],
   "source": [
    "print('Cross validation score : ',grid_search.best_score_)\n",
    "print('Best parameters : ',grid_search.best_params_)"
   ]
  },
  {
   "cell_type": "markdown",
   "id": "explicit-visitor",
   "metadata": {},
   "source": [
    "### Logistic "
   ]
  },
  {
   "cell_type": "code",
   "execution_count": 122,
   "id": "terminal-nickel",
   "metadata": {},
   "outputs": [],
   "source": [
    "from sklearn.linear_model import LogisticRegression\n",
    "from sklearn.model_selection import GridSearchCV\n",
    "\n",
    "param_grid1 = { 'C' : [0.01,0.1,1,10,100],\n",
    "              'max_iter' : [100,250,500]}\n",
    "\n",
    "logit = LogisticRegression(solver = 'lbfgs',random_state = 0)\n",
    "grid_log = GridSearchCV(logit, param_grid1, cv = 5, scoring = 'roc_auc', n_jobs = -1).fit(X_train,y_train)\n"
   ]
  },
  {
   "cell_type": "code",
   "execution_count": 123,
   "id": "humanitarian-vertex",
   "metadata": {},
   "outputs": [
    {
     "name": "stdout",
     "output_type": "stream",
     "text": [
      "Best parameters {'C': 1, 'max_iter': 100}\n",
      "Best ROC_AUC score 0.7442716733870969\n"
     ]
    }
   ],
   "source": [
    "print('Best parameters',grid_log.best_params_)\n",
    "print('Best ROC_AUC score', grid_log.best_score_)"
   ]
  },
  {
   "cell_type": "markdown",
   "id": "interracial-incident",
   "metadata": {},
   "source": [
    "### Support Vector Classifier"
   ]
  },
  {
   "cell_type": "code",
   "execution_count": 124,
   "id": "returning-currency",
   "metadata": {},
   "outputs": [],
   "source": [
    "from sklearn.svm import SVC\n",
    "\n",
    "param_grid3 = {'C': [0.01, 0.1, 1, 10, 100],\n",
    "              'gamma': [0.01, 0.1, 1, 10, 100]}\n",
    "\n",
    "rbf = SVC(kernel = 'rbf', random_state = 0)\n",
    "\n",
    "grid_rbf = GridSearchCV(rbf, param_grid3,cv =5, n_jobs = -1, scoring = 'roc_auc').fit(X_train,y_train)\n"
   ]
  },
  {
   "cell_type": "code",
   "execution_count": 125,
   "id": "physical-jacket",
   "metadata": {},
   "outputs": [
    {
     "name": "stdout",
     "output_type": "stream",
     "text": [
      "Best parameters: {'C': 1, 'gamma': 0.1}\n",
      "Best AUC ROC score :  0.7363193044354839\n"
     ]
    }
   ],
   "source": [
    "print('Best parameters:', grid_rbf.best_params_)\n",
    "print('Best AUC ROC score : ', grid_rbf.best_score_)"
   ]
  },
  {
   "cell_type": "markdown",
   "id": "declared-basic",
   "metadata": {},
   "source": [
    "### Decision Tree Classifier"
   ]
  },
  {
   "cell_type": "code",
   "execution_count": 126,
   "id": "computational-anger",
   "metadata": {},
   "outputs": [],
   "source": [
    "from sklearn.tree import DecisionTreeClassifier\n",
    "\n",
    "param_grid4 = {'max_depth': [2,3,4,5,6,7,8,9,10,11] }\n",
    "\n",
    "tree = DecisionTreeClassifier(random_state = 0)\n",
    "\n",
    "grid_tree = GridSearchCV(tree, param_grid4,cv =5, n_jobs = -1, scoring = 'roc_auc').fit(X_train,y_train)"
   ]
  },
  {
   "cell_type": "code",
   "execution_count": 127,
   "id": "central-macedonia",
   "metadata": {},
   "outputs": [
    {
     "name": "stdout",
     "output_type": "stream",
     "text": [
      "Best parameters: {'max_depth': 5}\n",
      "Best AUC ROC score :  0.696522177419355\n"
     ]
    }
   ],
   "source": [
    "print('Best parameters:', grid_tree.best_params_)\n",
    "print('Best AUC ROC score : ', grid_tree.best_score_)"
   ]
  },
  {
   "cell_type": "markdown",
   "id": "prompt-phrase",
   "metadata": {},
   "source": [
    "### Bagging Classifier"
   ]
  },
  {
   "cell_type": "code",
   "execution_count": 128,
   "id": "elder-rates",
   "metadata": {},
   "outputs": [],
   "source": [
    "from sklearn.model_selection import GridSearchCV\n",
    "from sklearn.ensemble import BaggingClassifier\n",
    "from sklearn.linear_model import LogisticRegression\n",
    "\n",
    "param_grid = {'max_samples':[0.01, 0.05, 0.1,0.5,1], \n",
    "              'max_features':[0.01, 0.05, 0.1,0.5,1],\n",
    "             'bootstrap' : [True, False]}\n",
    "\n",
    "log = LogisticRegression(C = 1, max_iter = 100,penalty = 'l2', solver = 'lbfgs', random_state = 0)\n",
    "bg = BaggingClassifier(log, random_state = 0)\n",
    "grid_bg = GridSearchCV(bg, param_grid = param_grid, cv = 5,scoring='roc_auc', n_jobs = -1).fit(X_train,y_train)"
   ]
  },
  {
   "cell_type": "code",
   "execution_count": 129,
   "id": "about-paragraph",
   "metadata": {},
   "outputs": [
    {
     "name": "stdout",
     "output_type": "stream",
     "text": [
      "Best parameters: {'bootstrap': False, 'max_features': 0.1, 'max_samples': 0.5}\n",
      "Best AUC ROC score :  0.7519468245967742\n"
     ]
    }
   ],
   "source": [
    "print('Best parameters:', grid_bg.best_params_)\n",
    "print('Best AUC ROC score : ', grid_bg.best_score_)"
   ]
  },
  {
   "cell_type": "markdown",
   "id": "metropolitan-findings",
   "metadata": {},
   "source": [
    "### Gradient Boosting Classifier "
   ]
  },
  {
   "cell_type": "code",
   "execution_count": 130,
   "id": "stock-shell",
   "metadata": {},
   "outputs": [],
   "source": [
    "from sklearn.ensemble import GradientBoostingClassifier\n",
    "\n",
    "param_grid2 = {'learning_rate':[0.001, 0.01, 0.1,0.5],\n",
    "              'n_estimators':[100,200, 500, 1000],\n",
    "              'max_depth' : [2,3,4,5]}\n",
    "\n",
    "gbrt = GradientBoostingClassifier(random_state=0)\n",
    "grid_gb = GridSearchCV(gbrt, param_grid2 ,cv = 5, scoring = 'roc_auc', n_jobs = -1).fit(X_train,y_train)"
   ]
  },
  {
   "cell_type": "code",
   "execution_count": 131,
   "id": "unlikely-uncertainty",
   "metadata": {},
   "outputs": [
    {
     "name": "stdout",
     "output_type": "stream",
     "text": [
      "Best parameters: {'learning_rate': 0.01, 'max_depth': 2, 'n_estimators': 500}\n",
      "Best AUC ROC score :  0.7859929435483871\n"
     ]
    }
   ],
   "source": [
    "print('Best parameters:', grid_gb.best_params_)\n",
    "print('Best AUC ROC score : ', grid_gb.best_score_)"
   ]
  },
  {
   "cell_type": "markdown",
   "id": "sweet-candy",
   "metadata": {},
   "source": [
    "# Best model"
   ]
  },
  {
   "cell_type": "markdown",
   "id": "forty-right",
   "metadata": {},
   "source": [
    "#### Out of the above models, Gradient Boosting Classifier produces the best cross validation ROC AUC score of 0.786 and is hence the best model. "
   ]
  },
  {
   "cell_type": "code",
   "execution_count": 132,
   "id": "dedicated-occasions",
   "metadata": {},
   "outputs": [
    {
     "data": {
      "text/plain": [
       "GradientBoostingClassifier(learning_rate=0.01, max_depth=2, n_estimators=500,\n",
       "                           random_state=0)"
      ]
     },
     "execution_count": 132,
     "metadata": {},
     "output_type": "execute_result"
    }
   ],
   "source": [
    "gbrt = GradientBoostingClassifier(learning_rate = 0.01, max_depth = 2, \n",
    "                                  n_estimators = 500,random_state=0)\n",
    "gbrt.fit(X_train, y_train)"
   ]
  },
  {
   "cell_type": "code",
   "execution_count": 133,
   "id": "revised-murder",
   "metadata": {},
   "outputs": [
    {
     "name": "stdout",
     "output_type": "stream",
     "text": [
      "Train ROC AUC score :  0.6147596153846154\n",
      "Validation ROC AUC score :  0.6577097505668934\n"
     ]
    }
   ],
   "source": [
    "from sklearn.metrics import roc_auc_score\n",
    "print('Train ROC AUC score : ', roc_auc_score(y_train, gbrt.predict(X_train)))\n",
    "print('Validation ROC AUC score : ', roc_auc_score(y_val, gbrt.predict(X_val)))"
   ]
  },
  {
   "cell_type": "markdown",
   "id": "sensitive-photography",
   "metadata": {},
   "source": [
    "#### ROC AUC visualization"
   ]
  },
  {
   "cell_type": "markdown",
   "id": "demonstrated-salad",
   "metadata": {},
   "source": [
    "Train data ROC AUC curve"
   ]
  },
  {
   "cell_type": "code",
   "execution_count": 134,
   "id": "absolute-zambia",
   "metadata": {},
   "outputs": [],
   "source": [
    "from sklearn import metrics\n",
    "\n",
    "y_train_pred = gbrt.predict_proba(X_train)[:,1]\n",
    "\n",
    "fpr, tpr, threshold = metrics.roc_curve(y_train, y_train_pred,pos_label=1)\n",
    "roc_auc = metrics.auc(fpr, tpr)"
   ]
  },
  {
   "cell_type": "code",
   "execution_count": 135,
   "id": "right-egyptian",
   "metadata": {
    "scrolled": false
   },
   "outputs": [
    {
     "data": {
      "image/png": "[encoded data removed]",
      "text/plain": [
       "<Figure size 432x288 with 1 Axes>"
      ]
     },
     "metadata": {
      "needs_background": "light"
     },
     "output_type": "display_data"
    }
   ],
   "source": [
    "plt.figure()\n",
    "plt.plot(fpr, tpr, label='Gradient Boosting Classification (area = %0.4f)' % roc_auc)\n",
    "plt.xlim([0.0, 1.0])\n",
    "plt.ylim([0.0, 1.05])\n",
    "close_zero = np.argmin(np.abs(threshold))\n",
    "plt.plot(fpr[close_zero], tpr[close_zero], 'o', markersize=10,\n",
    "         label=\"threshold default\", fillstyle=\"none\", c='k', mew=2)\n",
    "plt.xlabel('False Positive Rate')\n",
    "plt.ylabel('True Positive Rate')\n",
    "plt.title('Receiver operating characteristic')\n",
    "plt.legend(loc=\"lower right\")\n",
    "plt.show()"
   ]
  },
  {
   "cell_type": "markdown",
   "id": "industrial-sandwich",
   "metadata": {},
   "source": [
    "Confusion Matrix -Train data"
   ]
  },
  {
   "cell_type": "code",
   "execution_count": 136,
   "id": "productive-charter",
   "metadata": {
    "scrolled": true
   },
   "outputs": [
    {
     "data": {
      "text/plain": [
       "array([[799,   1],\n",
       "       [120,  36]])"
      ]
     },
     "execution_count": 136,
     "metadata": {},
     "output_type": "execute_result"
    }
   ],
   "source": [
    "from sklearn.metrics import confusion_matrix\n",
    "\n",
    "confusion_matrix(y_train, gbrt.predict(X_train))"
   ]
  },
  {
   "cell_type": "markdown",
   "id": "arranged-encoding",
   "metadata": {},
   "source": [
    "Test data ROC AUC curve"
   ]
  },
  {
   "cell_type": "code",
   "execution_count": 137,
   "id": "about-pattern",
   "metadata": {},
   "outputs": [
    {
     "data": {
      "image/png": "[encoded data removed]",
      "text/plain": [
       "<Figure size 432x288 with 1 Axes>"
      ]
     },
     "metadata": {
      "needs_background": "light"
     },
     "output_type": "display_data"
    }
   ],
   "source": [
    "from sklearn import metrics\n",
    "\n",
    "y_val_pred = gbrt.predict_proba(X_val)[:,1]\n",
    "\n",
    "fpr, tpr, threshold = metrics.roc_curve(y_val, y_val_pred,pos_label=1)\n",
    "roc_auc = metrics.auc(fpr, tpr)\n",
    "\n",
    "plt.figure()\n",
    "plt.plot(fpr, tpr, label='Gradient Boosting Classification (area = %0.4f)' % roc_auc)\n",
    "plt.xlim([0.0, 1.0])\n",
    "plt.ylim([0.0, 1.05])\n",
    "close_zero = np.argmin(np.abs(threshold))\n",
    "plt.plot(fpr[close_zero], tpr[close_zero], 'o', markersize=10,\n",
    "         label=\"threshold default\", fillstyle=\"none\", c='k', mew=2)\n",
    "plt.xlabel('False Positive Rate')\n",
    "plt.ylabel('True Positive Rate')\n",
    "plt.title('Receiver operating characteristic')\n",
    "plt.legend(loc=\"lower right\")\n",
    "plt.show()"
   ]
  },
  {
   "cell_type": "markdown",
   "id": "seven-middle",
   "metadata": {},
   "source": [
    "Confusion Matrix -Validation data"
   ]
  },
  {
   "cell_type": "code",
   "execution_count": 138,
   "id": "graduate-northwest",
   "metadata": {},
   "outputs": [
    {
     "data": {
      "text/plain": [
       "array([[267,   3],\n",
       "       [ 33,  16]])"
      ]
     },
     "execution_count": 138,
     "metadata": {},
     "output_type": "execute_result"
    }
   ],
   "source": [
    "confusion_matrix(y_val, gbrt.predict(X_val))"
   ]
  },
  {
   "cell_type": "markdown",
   "id": "acknowledged-tender",
   "metadata": {},
   "source": [
    "From the confusion matrix and ROC AUC curve with the default threshold, we see that the model is still unable to correctly predict the positives well, although the false positives is very low. \n",
    "\n",
    "Hence, fine tuning to move the threshold is needed to improve the model's performance.  "
   ]
  },
  {
   "cell_type": "markdown",
   "id": "cardiovascular-belly",
   "metadata": {},
   "source": [
    "### Post prediction Model tuning"
   ]
  },
  {
   "cell_type": "markdown",
   "id": "addressed-bible",
   "metadata": {},
   "source": [
    "Since we are dealing with predicting patients with Acute myocardial infarction to reduce the mortality rate, it is more important to correctly predict the positive patients than misclassifying the negative patients. \n",
    "\n",
    "Hence, On observing the graphs and to keep the model more general, the True Positive rate is aimed at approx. around 0.7"
   ]
  },
  {
   "cell_type": "code",
   "execution_count": 139,
   "id": "determined-michael",
   "metadata": {},
   "outputs": [],
   "source": [
    "y_train_prob = gbrt.predict_proba(X_train)[:,1]\n",
    "fpr, tpr, threshold = metrics.roc_curve(y_train, y_train_prob)\n",
    "\n",
    "revised_threshold = threshold[np.argmin(np.abs(tpr - 0.7))]"
   ]
  },
  {
   "cell_type": "code",
   "execution_count": 140,
   "id": "killing-regular",
   "metadata": {},
   "outputs": [],
   "source": [
    "y_train_pred = np.where(y_train_prob < revised_threshold,0,1)"
   ]
  },
  {
   "cell_type": "code",
   "execution_count": 141,
   "id": "valid-campus",
   "metadata": {},
   "outputs": [
    {
     "data": {
      "text/plain": [
       "array([[705,  95],\n",
       "       [ 47, 109]])"
      ]
     },
     "execution_count": 141,
     "metadata": {},
     "output_type": "execute_result"
    }
   ],
   "source": [
    "confusion_matrix(y_train, y_train_pred)"
   ]
  },
  {
   "cell_type": "code",
   "execution_count": 142,
   "id": "indirect-decimal",
   "metadata": {
    "scrolled": false
   },
   "outputs": [
    {
     "name": "stdout",
     "output_type": "stream",
     "text": [
      "Train ROC AUC score : 0.7899839743589744\n"
     ]
    }
   ],
   "source": [
    "print('Train ROC AUC score :' , roc_auc_score(y_train, y_train_pred))"
   ]
  },
  {
   "cell_type": "code",
   "execution_count": 143,
   "id": "victorian-rwanda",
   "metadata": {},
   "outputs": [
    {
     "name": "stdout",
     "output_type": "stream",
     "text": [
      "              precision    recall  f1-score   support\n",
      "\n",
      "           0       0.94      0.88      0.91       800\n",
      "           1       0.53      0.70      0.61       156\n",
      "\n",
      "    accuracy                           0.85       956\n",
      "   macro avg       0.74      0.79      0.76       956\n",
      "weighted avg       0.87      0.85      0.86       956\n",
      "\n"
     ]
    }
   ],
   "source": [
    "from sklearn.metrics import classification_report\n",
    "\n",
    "print(classification_report(y_train, y_train_pred, target_names=[\"0\", \"1\"]))"
   ]
  },
  {
   "cell_type": "code",
   "execution_count": 144,
   "id": "alive-astrology",
   "metadata": {},
   "outputs": [],
   "source": [
    "y_val_prob = gbrt.predict_proba(X_val)[:,1]\n",
    "\n",
    "y_val_pred = np.where(y_val_prob < revised_threshold, 0,1)"
   ]
  },
  {
   "cell_type": "code",
   "execution_count": 145,
   "id": "similar-structure",
   "metadata": {},
   "outputs": [
    {
     "data": {
      "text/plain": [
       "array([[241,  29],\n",
       "       [ 17,  32]])"
      ]
     },
     "execution_count": 145,
     "metadata": {},
     "output_type": "execute_result"
    }
   ],
   "source": [
    "confusion_matrix(y_val, y_val_pred)"
   ]
  },
  {
   "cell_type": "code",
   "execution_count": 146,
   "id": "respected-fiber",
   "metadata": {},
   "outputs": [
    {
     "name": "stdout",
     "output_type": "stream",
     "text": [
      "Validation ROC AUC score : 0.7728269085411942\n"
     ]
    }
   ],
   "source": [
    "print('Validation ROC AUC score :',roc_auc_score(y_val, y_val_pred))"
   ]
  },
  {
   "cell_type": "markdown",
   "id": "loose-extent",
   "metadata": {},
   "source": [
    "The model has significantly improved predictions and is thus a good model. \n",
    "The train and validation ROC scores are also almost similiar and thus the model looks more generic."
   ]
  },
  {
   "cell_type": "code",
   "execution_count": 147,
   "id": "periodic-occurrence",
   "metadata": {},
   "outputs": [],
   "source": [
    "test_pred = gbrt.predict_proba(test_data)[:,1]\n",
    "final_test_prediction = np.where(test_pred < revised_threshold, 0,1)"
   ]
  },
  {
   "cell_type": "code",
   "execution_count": 148,
   "id": "supreme-fault",
   "metadata": {},
   "outputs": [
    {
     "data": {
      "text/plain": [
       "array([[  0,   1],\n",
       "       [335,  90]])"
      ]
     },
     "execution_count": 148,
     "metadata": {},
     "output_type": "execute_result"
    }
   ],
   "source": [
    "np.array(np.unique(final_test_prediction, return_counts=True))"
   ]
  },
  {
   "cell_type": "markdown",
   "id": "disciplinary-intake",
   "metadata": {},
   "source": [
    "After verifying the test dataset values, ROC AUC score of the test dataset from the above code is 0.751\n",
    "This indicates that the model is able to generalize well in the unseen dataset as well and is a good model for predicting patients with Mycardial Infraction."
   ]
  }
 ],
 "metadata": {
  "kernelspec": {
   "display_name": "Python 3",
   "language": "python",
   "name": "python3"
  },
  "language_info": {
   "codemirror_mode": {
    "name": "ipython",
    "version": 3
   },
   "file_extension": ".py",
   "mimetype": "text/x-python",
   "name": "python",
   "nbconvert_exporter": "python",
   "pygments_lexer": "ipython3",
   "version": "3.9.1"
  }
 },
 "nbformat": 4,
 "nbformat_minor": 5
}
